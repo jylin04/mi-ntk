{
  "cells": [
    {
      "cell_type": "markdown",
      "metadata": {
        "id": "view-in-github",
        "colab_type": "text"
      },
      "source": [
        "<a href=\"https://colab.research.google.com/github/jylin04/mi-ntk/blob/main/tms_exploration.ipynb\" target=\"_parent\"><img src=\"https://colab.research.google.com/assets/colab-badge.svg\" alt=\"Open In Colab\"/></a>"
      ]
    },
    {
      "cell_type": "markdown",
      "metadata": {
        "id": "M-r_Hno5GS6l"
      },
      "source": [
        "# NTK <> TMS\n",
        "\n",
        "In this notebook, I'll replicate some results from [TMS](https://transformer-circuits.pub/2022/toy_model/index.html) and [Superposition, Memorization and Double Descent](https://transformer-circuits.pub/2023/toy-double-descent/index.html), then study NTK-inspired hypotheses for feature learning in an instance of TMS where the empirical NTK is a good approximation."
      ]
    },
    {
      "cell_type": "markdown",
      "metadata": {
        "id": "wXbpe7ge7R12"
      },
      "source": [
        "# Setup (run this cell at start)"
      ]
    },
    {
      "cell_type": "code",
      "source": [
        "import warnings\n",
        "warnings.simplefilter(action='ignore', category=FutureWarning)"
      ],
      "metadata": {
        "id": "6KKKvVy8pP2E"
      },
      "execution_count": 2,
      "outputs": []
    },
    {
      "cell_type": "code",
      "execution_count": 3,
      "metadata": {
        "id": "2F1VqIj07XGj"
      },
      "outputs": [],
      "source": [
        "import numpy as np\n",
        "import torch as t\n",
        "import matplotlib.pyplot as plt\n",
        "\n",
        "from torch import nn, Tensor\n",
        "from torch.nn import functional as F\n",
        "\n",
        "from tqdm.notebook import tqdm"
      ]
    },
    {
      "cell_type": "code",
      "execution_count": 4,
      "metadata": {
        "id": "-h5Vq1xBN6DM"
      },
      "outputs": [],
      "source": [
        "import plotly.express as px\n",
        "import plotly.graph_objects as go\n",
        "from plotly.subplots import make_subplots\n",
        "\n",
        "from matplotlib.colors import LinearSegmentedColormap"
      ]
    },
    {
      "cell_type": "code",
      "source": [
        "%pip install -q git+https://github.com/jylin04/mi-ntk.git"
      ],
      "metadata": {
        "colab": {
          "base_uri": "https://localhost:8080/"
        },
        "id": "_DNwcx5O45F1",
        "outputId": "6e64a181-69ac-4eee-eac3-b9cd99053619"
      },
      "execution_count": 5,
      "outputs": [
        {
          "output_type": "stream",
          "name": "stdout",
          "text": [
            "  Installing build dependencies ... \u001b[?25l\u001b[?25hdone\n",
            "  Getting requirements to build wheel ... \u001b[?25l\u001b[?25hdone\n",
            "  Preparing metadata (pyproject.toml) ... \u001b[?25l\u001b[?25hdone\n",
            "  Building wheel for mi-ntk (pyproject.toml) ... \u001b[?25l\u001b[?25hdone\n"
          ]
        }
      ]
    },
    {
      "cell_type": "code",
      "source": [
        "import tms, tms_fixed, ntk\n",
        "\n",
        "from tms import ReluModel\n",
        "from tms import generate_batch, importance_weighted_loss, train_tms\n",
        "from tms_fixed import generate_batch_with_norm, train_tms_fixed\n",
        "from ntk import empirical_ntk, LinearisedPredictor, loss_acc_gap, r2_score"
      ],
      "metadata": {
        "id": "lpKVJPAl5Gz2"
      },
      "execution_count": 6,
      "outputs": []
    },
    {
      "cell_type": "code",
      "execution_count": 7,
      "metadata": {
        "colab": {
          "base_uri": "https://localhost:8080/"
        },
        "id": "7IAoMvCU7g-S",
        "outputId": "a33b74aa-4ac5-40db-b2d4-881e6a05dba6"
      },
      "outputs": [
        {
          "output_type": "execute_result",
          "data": {
            "text/plain": [
              "<torch._C.Generator at 0x7c453f7063f0>"
            ]
          },
          "metadata": {},
          "execution_count": 7
        }
      ],
      "source": [
        "# cfg\n",
        "epochs: int = 5000\n",
        "batch_size: int = 1024\n",
        "lr: float = 1e-3\n",
        "n_features: int = 80\n",
        "n_hidden: int = 20\n",
        "sparsity: float = 0.9\n",
        "importance: float = 0.9\n",
        "\n",
        "device = t.device(\"cuda\" if t.cuda.is_available() else \"cpu\")\n",
        "seed = 0\n",
        "\n",
        "t.manual_seed(seed)"
      ]
    },
    {
      "cell_type": "markdown",
      "metadata": {
        "id": "G2EcvAd0HLWU"
      },
      "source": [
        "# 1. Replicate TMS baseline"
      ]
    },
    {
      "cell_type": "markdown",
      "source": [
        "Training loop."
      ],
      "metadata": {
        "id": "7aLQfvP4fkK8"
      }
    },
    {
      "cell_type": "code",
      "source": [
        "model = ReluModel(n_features=80, n_hidden=20).to(device)\n",
        "optimizer = t.optim.Adam(model.parameters(), lr=lr)"
      ],
      "metadata": {
        "id": "p9ZlCH-hfinR"
      },
      "execution_count": null,
      "outputs": []
    },
    {
      "cell_type": "code",
      "source": [
        "for step in tqdm(range(epochs)):\n",
        "  train_loss = train_tms(model, optimizer, batch_size, n_features=80, S = 0.9, I = 0.9, device=device)\n",
        "  if (step % 1000 == 0):\n",
        "    print(f\"Epoch {step}: Train loss {train_loss:.4f}\")"
      ],
      "metadata": {
        "colab": {
          "base_uri": "https://localhost:8080/",
          "height": 101,
          "referenced_widgets": [
            "22a27e527775493f86dda74983b4824b",
            "0443da564efb4618adaf3b57ddcfd176",
            "2aa643ba570746449c946549738ab380",
            "2f64dc380a8e406fb494a9341b71a16f",
            "26269df9492a4f54820c0a0e8951f975",
            "cefec69cff7743f2ad1687ba4984b1e2",
            "6d83b2694fd843338978fef994af008e",
            "c438cf9dd9bd44669d6ae820689c7fc7",
            "2f3d31d9dcf44ff393dd99088b8961a0",
            "127bf3bc4f374459b46f64b167d38a66",
            "c9abe6e80aed4a49987aabed81b3394d"
          ]
        },
        "id": "y7odp713gUhz",
        "outputId": "59ce24c1-796a-4960-fded-3d55d6f9337b"
      },
      "execution_count": null,
      "outputs": [
        {
          "output_type": "display_data",
          "data": {
            "text/plain": [
              "  0%|          | 0/2001 [00:00<?, ?it/s]"
            ],
            "application/vnd.jupyter.widget-view+json": {
              "version_major": 2,
              "version_minor": 0,
              "model_id": "22a27e527775493f86dda74983b4824b"
            }
          },
          "metadata": {}
        },
        {
          "output_type": "stream",
          "name": "stdout",
          "text": [
            "Epoch 0: Train loss 0.0031\n",
            "Epoch 1000: Train loss 0.0003\n",
            "Epoch 2000: Train loss 0.0002\n"
          ]
        }
      ]
    },
    {
      "cell_type": "markdown",
      "source": [
        "Visualizing the results:"
      ],
      "metadata": {
        "id": "wLLLwp_Ngi6I"
      }
    },
    {
      "cell_type": "code",
      "execution_count": 90,
      "metadata": {
        "id": "4Jcc2oR27uip"
      },
      "outputs": [],
      "source": [
        "def plot_weights(W, pytorch=True):\n",
        "   ''' Do (1) for an individual weight matrix '''\n",
        "   if pytorch:\n",
        "    W = W.detach().cpu().numpy()\n",
        "   plt.imshow(W.T @ W, vmin=-1.3, vmax=1.3, cmap=\"RdBu_r\")"
      ]
    },
    {
      "cell_type": "code",
      "execution_count": 91,
      "metadata": {
        "id": "BVIhcQMcAeZQ"
      },
      "outputs": [],
      "source": [
        "def plot_norms(W, pytorch=True):\n",
        "    ''' Do (2) for an individual weight matrix '''\n",
        "    if pytorch:\n",
        "      W = W.detach().cpu().numpy()\n",
        "\n",
        "    n_hidden, n_features = W.shape                        # SHape is e.g. [5, 20]\n",
        "\n",
        "    W_norm = W /(1e-5 + np.linalg.norm(W, axis=0))        # Shape is e.g. [5, 20], but each of the 20 vectors has been normalized in the [5] direction]\n",
        "\n",
        "    superposition = np.zeros(n_features)\n",
        "    for i in range(n_features):\n",
        "      for j in range(n_features):\n",
        "        if i != j:\n",
        "          superposition[i] += (W_norm.T[i] @ W.T[j])**2\n",
        "\n",
        "    colors = [\"purple\" if sup <=0.01 else \"yellow\" for sup in superposition]\n",
        "\n",
        "    norms = np.linalg.norm(W, axis=0)\n",
        "\n",
        "    fig, ax = plt.subplots(1, 1, figsize=(2, 10))\n",
        "\n",
        "    ax.barh(np.arange(len(norms)), norms, align='center', color=colors, alpha=0.8)\n",
        "    ax.set_yticks([])\n",
        "    ax.invert_yaxis()  # labels read top-to-bottom\n",
        "    ax.set_xticks([])"
      ]
    },
    {
      "cell_type": "code",
      "execution_count": null,
      "metadata": {
        "colab": {
          "base_uri": "https://localhost:8080/",
          "height": 162
        },
        "id": "D6hu7gNsGSov",
        "outputId": "33cb990b-f542-42e5-bcc2-3671d82e4996"
      },
      "outputs": [
        {
          "output_type": "display_data",
          "data": {
            "text/plain": [
              "<Figure size 640x480 with 1 Axes>"
            ],
            "image/png": "[encoded data removed]"
          },
          "metadata": {}
        }
      ],
      "source": [
        "# Visualize the dataset\n",
        "plt.imshow(generate_batch(100, 20, 0.9).T)\n",
        "plt.show();"
      ]
    },
    {
      "cell_type": "code",
      "execution_count": null,
      "metadata": {
        "colab": {
          "base_uri": "https://localhost:8080/",
          "height": 433
        },
        "id": "bdu09CHi8Mfk",
        "outputId": "78e68e47-15a8-4e05-89f4-459697ee375c"
      },
      "outputs": [
        {
          "output_type": "display_data",
          "data": {
            "text/plain": [
              "<Figure size 640x480 with 1 Axes>"
            ],
            "image/png": "[encoded data removed]"
          },
          "metadata": {}
        }
      ],
      "source": [
        "plot_weights(model.W)"
      ]
    },
    {
      "cell_type": "code",
      "source": [
        "# Find the number of features that the autoencoder can reconstruct\n",
        "\n",
        "for x in range(n_features):\n",
        "  if (model.W.T @ model.W)[x,x] < 0.01:\n",
        "    print(x)\n",
        "    break"
      ],
      "metadata": {
        "colab": {
          "base_uri": "https://localhost:8080/"
        },
        "id": "v6zbDq8P1pYE",
        "outputId": "bcaab06b-527b-4eb1-d4fd-4802fb1d5c42"
      },
      "execution_count": null,
      "outputs": [
        {
          "output_type": "stream",
          "name": "stdout",
          "text": [
            "34\n"
          ]
        }
      ]
    },
    {
      "cell_type": "code",
      "execution_count": null,
      "metadata": {
        "colab": {
          "base_uri": "https://localhost:8080/",
          "height": 807
        },
        "id": "VunzEIkXOu7Q",
        "outputId": "ffc81b2e-7812-4338-9334-128cd084e3ec"
      },
      "outputs": [
        {
          "output_type": "display_data",
          "data": {
            "text/plain": [
              "<Figure size 200x1000 with 1 Axes>"
            ],
            "image/png": "[encoded data removed]"
          },
          "metadata": {}
        }
      ],
      "source": [
        "plot_norms(model.W)"
      ]
    },
    {
      "cell_type": "markdown",
      "metadata": {
        "id": "XKBcUiLPXNgV"
      },
      "source": [
        "# 2. Replicate \"Superposition, Memorization & Double Descent\""
      ]
    },
    {
      "cell_type": "markdown",
      "source": [
        "Next, we'd like to redo the TMS experiment with a fixed, normalized dataset."
      ],
      "metadata": {
        "id": "gbQRwF4_A_fw"
      }
    },
    {
      "cell_type": "code",
      "source": [
        "# cfg\n",
        "\n",
        "batch_size: int = 100\n",
        "n_features: int = 10   # <- replicates the plots in Marius Hobbhahn's LW post\n",
        "n_hidden: int = 5\n",
        "sparsity: float = 0.9\n",
        "importance: float = 0.8\n",
        "\n",
        "epochs = 2001"
      ],
      "metadata": {
        "id": "VM6MoYW5Y5qL"
      },
      "execution_count": 7,
      "outputs": []
    },
    {
      "cell_type": "markdown",
      "metadata": {
        "id": "Px4Z5DV8Gi3r"
      },
      "source": [
        "Training loop."
      ]
    },
    {
      "cell_type": "code",
      "execution_count": 8,
      "metadata": {
        "id": "Up-kS7KLrLcR"
      },
      "outputs": [],
      "source": [
        "# Use one fixed dataset for all epochs\n",
        "dataset = generate_batch_with_norm(batch_size, n_features, sparsity).to(device)\n",
        "model = ReluModel(n_features, n_hidden).to(device)\n",
        "optimizer = t.optim.Adam(model.parameters(), lr = lr)"
      ]
    },
    {
      "cell_type": "code",
      "execution_count": 9,
      "metadata": {
        "colab": {
          "base_uri": "https://localhost:8080/",
          "height": 101,
          "referenced_widgets": [
            "1a56ca5400744cb5a041fbba9427973c",
            "bc7ab9e4ee22485d9c04944919b32b2e",
            "15fcc88d47614b5cb153f35e11cfa0e1",
            "c558279341294019a351bf0ac832fb29",
            "97284f945ddd45b68d2bde636c20d78f",
            "108246422d2e4bc987e5b8a998f0e79a",
            "6682ccfb737b4e7683a3dc25b0861934",
            "5fe5c707e16a4fd3af7cea5405f53f5e",
            "d0e4405d95874a29acabee591f97d810",
            "ef232f197187461da004040adeccffda",
            "79c15dfa3b184b0dba624f392db3ea87"
          ]
        },
        "id": "2joy5EMhxq95",
        "outputId": "d227c835-1bab-4a91-91fc-65794b9a9b5c"
      },
      "outputs": [
        {
          "output_type": "display_data",
          "data": {
            "text/plain": [
              "  0%|          | 0/2001 [00:00<?, ?it/s]"
            ],
            "application/vnd.jupyter.widget-view+json": {
              "version_major": 2,
              "version_minor": 0,
              "model_id": "1a56ca5400744cb5a041fbba9427973c"
            }
          },
          "metadata": {}
        },
        {
          "output_type": "stream",
          "name": "stdout",
          "text": [
            "Epoch 0: Train loss 0.0135\n",
            "Epoch 1000: Train loss 0.0003\n",
            "Epoch 2000: Train loss 0.0001\n"
          ]
        }
      ],
      "source": [
        "for step in tqdm(range(epochs)):\n",
        "  train_loss = train_tms_fixed(model, dataset, optimizer, importance)\n",
        "  if (step % 1000 == 0):\n",
        "    print(f\"Epoch {step}: Train loss {train_loss:.4f}\")"
      ]
    },
    {
      "cell_type": "markdown",
      "metadata": {
        "id": "wVMB3Hm4HBn3"
      },
      "source": [
        "Plots of the trained parameters.\n",
        "\n",
        "(What exactly are we plotting here?:\n",
        "\n",
        "- In \"features\": the 1000 vectors that map each of 1000 1-hot-encoded input vectors (features) to the hidden space.\n",
        "\n",
        "- In \"hidden vectors\": the representation of each of the 1000 entries of the fixed dataset in the hidden space.)"
      ]
    },
    {
      "cell_type": "code",
      "execution_count": 130,
      "metadata": {
        "id": "wdzepnahqlMH"
      },
      "outputs": [],
      "source": [
        "W = model.W.detach().cpu().numpy()\n",
        "hidden_vectors = W @ dataset.T.detach().cpu().numpy()"
      ]
    },
    {
      "cell_type": "code",
      "source": [
        "plot_weights(W, False)"
      ],
      "metadata": {
        "colab": {
          "base_uri": "https://localhost:8080/",
          "height": 430
        },
        "id": "RJqOzhYsypah",
        "outputId": "453802bd-a0b8-48a8-c993-c41b819b9040"
      },
      "execution_count": 131,
      "outputs": [
        {
          "output_type": "display_data",
          "data": {
            "text/plain": [
              "<Figure size 640x480 with 1 Axes>"
            ],
            "image/png": "[encoded data removed]"
          },
          "metadata": {}
        }
      ]
    },
    {
      "cell_type": "code",
      "source": [
        "plot_norms(W, False)"
      ],
      "metadata": {
        "colab": {
          "base_uri": "https://localhost:8080/",
          "height": 807
        },
        "id": "0upI6bWYytJv",
        "outputId": "88a18c14-1693-4f98-8ac5-ebb336b726e6"
      },
      "execution_count": 132,
      "outputs": [
        {
          "output_type": "display_data",
          "data": {
            "text/plain": [
              "<Figure size 200x1000 with 1 Axes>"
            ],
            "image/png": "[encoded data removed]"
          },
          "metadata": {}
        }
      ]
    },
    {
      "cell_type": "code",
      "execution_count": null,
      "metadata": {
        "colab": {
          "base_uri": "https://localhost:8080/",
          "height": 853
        },
        "id": "6l7-qdpurcgv",
        "outputId": "c408168f-9c8d-4312-f12a-e3a2266d0f53"
      },
      "outputs": [
        {
          "output_type": "display_data",
          "data": {
            "text/plain": [
              "<Figure size 2000x1000 with 2 Axes>"
            ],
            "image/png": "[encoded data removed]"
          },
          "metadata": {}
        }
      ],
      "source": [
        "fig, ax = plt.subplots(1, 2, figsize=(20, 10))\n",
        "\n",
        "ax[0].scatter(hidden_vectors[0], hidden_vectors[1], color=\"firebrick\", alpha=0.8)\n",
        "ax[0].set_title(\"hidden vectors\")\n",
        "\n",
        "ax[1].scatter(W[0], W[1], color=\"cornflowerblue\", alpha=0.8)\n",
        "ax[1].set_title(\"features\")\n",
        "\n",
        "plt.show();"
      ]
    },
    {
      "cell_type": "markdown",
      "source": [
        "Double descent curve when sweeping over different dataset sizes."
      ],
      "metadata": {
        "id": "OCL80cBbeEv-"
      }
    },
    {
      "cell_type": "code",
      "execution_count": 29,
      "metadata": {
        "id": "FKfC8en-rwDt"
      },
      "outputs": [],
      "source": [
        "data_sizes = [3, 5, 8, 10, 15, 30, 50, 100, 200, 500, 1000] #, 2000] #, 5000, 10000, 20000]\n",
        "\n",
        "n_features: int = 50\n",
        "n_hidden: int = 10\n",
        "sparsity: float = 0.9\n",
        "importance: float = 0.8\n",
        "\n",
        "epochs: int = 3001"
      ]
    },
    {
      "cell_type": "code",
      "execution_count": 30,
      "metadata": {
        "id": "LfSBf4-0lGIp"
      },
      "outputs": [],
      "source": [
        "train_sets = []\n",
        "test_sets = []\n",
        "train_losses = []\n",
        "test_losses = []\n",
        "weights = []"
      ]
    },
    {
      "cell_type": "code",
      "execution_count": 31,
      "metadata": {
        "colab": {
          "base_uri": "https://localhost:8080/",
          "height": 49,
          "referenced_widgets": [
            "a51e62b5ce5447a28f049782d90490a4",
            "21492b991f1c4190b2479474eeb7bfcc",
            "2a4aeeaa6592463da2f87ee18f4b73ec",
            "a0c42922c0344263a2bd696e3e13087b",
            "79e3c622941046aa8acf95e8df0d143e",
            "c59ef631a7f446a9944d9e61fff8e517",
            "c99aeb2ac4284038b0fb679c5903de23",
            "93d2bffe021c4612b8735bd8dc143c2d",
            "2b6112449320436e8a2bcc783a473fa6",
            "bc529a3f349d40d6abae6469be337bbf",
            "d726251bff244fad8ecebfb72ac6cac1"
          ]
        },
        "id": "NmDm6sjrkzHj",
        "outputId": "b0f51874-77b2-4921-a9d4-bdb531f5eb8e"
      },
      "outputs": [
        {
          "output_type": "display_data",
          "data": {
            "text/plain": [
              "  0%|          | 0/11 [00:00<?, ?it/s]"
            ],
            "application/vnd.jupyter.widget-view+json": {
              "version_major": 2,
              "version_minor": 0,
              "model_id": "a51e62b5ce5447a28f049782d90490a4"
            }
          },
          "metadata": {}
        }
      ],
      "source": [
        "for i in tqdm(range(len(data_sizes))):\n",
        "\n",
        "  dataset_size = data_sizes[i]\n",
        "\n",
        "  model = ReluModel(n_features, n_hidden).to(device)\n",
        "  dataset = generate_batch_with_norm(dataset_size, n_features, sparsity).to(device)\n",
        "  optimizer = t.optim.Adam(model.parameters(), lr = lr)\n",
        "\n",
        "  for step in range(epochs):\n",
        "    train_loss = train_tms_fixed(model, dataset, optimizer, importance)\n",
        "#    if (step % 1000 == 0):\n",
        "#      print(f\"Epoch {step}: Train loss {train_loss:.4f}\")\n",
        "\n",
        "  test_set = generate_batch_with_norm(dataset_size, n_features, sparsity).to(device)\n",
        "\n",
        "  train_losses.append(train_loss.item())\n",
        "  test_losses.append(importance_weighted_loss(test_set, model(test_set), t.tensor(importance, device=test_set.device)**t.arange(n_features, device = test_set.device)).item()*1000)\n",
        "  train_sets.append(dataset.detach().cpu().numpy())\n",
        "  test_sets.append(test_set.detach().cpu().numpy())\n",
        "  weights.append(model.W.detach().cpu().numpy())"
      ]
    },
    {
      "cell_type": "code",
      "source": [
        "plot_weights(weights[10], False)"
      ],
      "metadata": {
        "colab": {
          "base_uri": "https://localhost:8080/",
          "height": 430
        },
        "id": "oVz-p_WX3JTc",
        "outputId": "73618453-d57a-4bf0-f2f1-0aab7d980360"
      },
      "execution_count": null,
      "outputs": [
        {
          "output_type": "display_data",
          "data": {
            "text/plain": [
              "<Figure size 640x480 with 1 Axes>"
            ],
            "image/png": "[encoded data removed]"
          },
          "metadata": {}
        }
      ]
    },
    {
      "cell_type": "code",
      "execution_count": 32,
      "metadata": {
        "colab": {
          "base_uri": "https://localhost:8080/",
          "height": 582
        },
        "id": "1uj3LpKE9tZO",
        "outputId": "3376cc6f-bd7e-4d8a-bf63-2a97a229ab25"
      },
      "outputs": [
        {
          "output_type": "display_data",
          "data": {
            "text/plain": [
              "<Figure size 1800x600 with 1 Axes>"
            ],
            "image/png": "[encoded data removed]"
          },
          "metadata": {}
        }
      ],
      "source": [
        "scalar = 1000\n",
        "train_losses_scaled = [a*scalar for a in train_losses]\n",
        "\n",
        "fig, ax = plt.subplots(1, 1, figsize=(15, 5), dpi=120)\n",
        "\n",
        "ax.axhline(1, linestyle=\"--\", color=\"grey\")\n",
        "ax.set_ylabel(\"loss\")\n",
        "ax.set_xlabel(\"dataset size\")\n",
        "ax.plot(data_sizes, train_losses_scaled, '-o', color=\"black\", alpha=0.8)\n",
        "ax.set_xscale(\"log\")\n",
        "ax.set_title(\"Train loss vs dataset size\")\n",
        "\n",
        "ax.set_xticks(data_sizes)\n",
        "ax.set_xticklabels(data_sizes)\n",
        "\n",
        "plt.show();"
      ]
    },
    {
      "cell_type": "code",
      "source": [
        "fig, ax = plt.subplots(1, 1, figsize=(15, 5), dpi=120)\n",
        "\n",
        "ax.axhline(1, linestyle=\"--\", color=\"grey\")\n",
        "ax.set_ylabel(\"loss\")\n",
        "ax.set_xlabel(\"dataset size\")\n",
        "ax.plot(data_sizes, test_losses, '-o', color=\"black\", alpha=0.8)\n",
        "ax.set_xscale(\"log\")\n",
        "ax.set_title(\"Test loss vs dataset size\")\n",
        "\n",
        "ax.set_xticks(data_sizes)\n",
        "ax.set_xticklabels(data_sizes)\n",
        "\n",
        "plt.show();"
      ],
      "metadata": {
        "colab": {
          "base_uri": "https://localhost:8080/",
          "height": 582
        },
        "id": "UMhtH9v6qRmz",
        "outputId": "6a57164e-cb24-41e3-d904-cd377678faa9"
      },
      "execution_count": 33,
      "outputs": [
        {
          "output_type": "display_data",
          "data": {
            "text/plain": [
              "<Figure size 1800x600 with 1 Axes>"
            ],
            "image/png": "[encoded data removed]"
          },
          "metadata": {}
        }
      ]
    },
    {
      "cell_type": "markdown",
      "source": [
        "Using Marius Hobbhahn's code to visualize the features and training set hidden vectors:"
      ],
      "metadata": {
        "id": "wpaYKMCMu5mC"
      }
    },
    {
      "cell_type": "code",
      "execution_count": null,
      "metadata": {
        "id": "ezewcNPB-AsU",
        "colab": {
          "base_uri": "https://localhost:8080/",
          "height": 306
        },
        "outputId": "c99eab44-090b-453b-f7ba-ba76533ceec3"
      },
      "outputs": [
        {
          "output_type": "display_data",
          "data": {
            "text/plain": [
              "<Figure size 2500x400 with 24 Axes>"
            ],
            "image/png": "[encoded data removed]"
          },
          "metadata": {}
        }
      ],
      "source": [
        "#### visualize features\n",
        "\n",
        "## think about centering each plot at 0\n",
        "\n",
        "fig, ax = plt.subplots(2, len(data_sizes), figsize=(25, 4))\n",
        "c = 1.3\n",
        "\n",
        "ax[0][0].set_ylabel(\"features\")\n",
        "ax[1][0].set_ylabel(\"hidden vectors\")\n",
        "\n",
        "hidden_vectors_list = []\n",
        "\n",
        "for i in range(len(data_sizes)):\n",
        "\n",
        "    W = weights[i]\n",
        "    inputs = train_sets[i]\n",
        "    s = data_sizes[i]\n",
        "\n",
        "    hidden_vectors = W @ inputs.T\n",
        "    hidden_vectors_list.append(hidden_vectors)\n",
        "\n",
        "    ax[0][i].scatter(W[0], W[1], color=\"blue\", alpha=1)\n",
        "    ax[0][i].set_xticks([])\n",
        "    ax[0][i].set_yticks([])\n",
        "    ax[0][i].set_xlim(c*W[0].min().item(), c*W[0].max().item())\n",
        "    ax[0][i].set_ylim(c*W[1].min().item(), c*W[1].max().item())\n",
        "    ax[0][i].set_title(str(s))\n",
        "    ax[0][i].axvline(0, linestyle=\"--\", color=\"grey\", zorder=-1)\n",
        "    ax[0][i].axhline(0, linestyle=\"--\", color=\"grey\", zorder=-1)\n",
        "\n",
        "    ax[1][i].scatter(hidden_vectors[0], hidden_vectors[1], color=\"red\", alpha=1)\n",
        "    ax[1][i].set_xticks([])\n",
        "    ax[1][i].set_yticks([])\n",
        "    ax[1][i].set_xlim(c*hidden_vectors[0].min().item(), c*hidden_vectors[0].max().item())\n",
        "    ax[1][i].set_ylim(c*hidden_vectors[1].min().item(), c*hidden_vectors[1].max().item())\n",
        "    ax[1][i].axvline(0, linestyle=\"--\", color=\"grey\", zorder=-1)\n",
        "    ax[1][i].axhline(0, linestyle=\"--\", color=\"grey\", zorder=-1)\n",
        "\n",
        "plt.show();"
      ]
    },
    {
      "cell_type": "markdown",
      "source": [
        "# 3. Check empirical NTK for TMS with various hyperparameters."
      ],
      "metadata": {
        "id": "ATZG8FHGogYP"
      }
    },
    {
      "cell_type": "markdown",
      "source": [
        "Let's check that the empirical NTK is a good approximation for a few models that we can then try to interpret.\n",
        "\n",
        "(Since we only need one or two specific models to work with *and* for a given choice of (m,n) we have to manually check that (S, I) gives a reasonable double descent curve, let's check select models one at a time until we have one or two that work, rather than doing a thorough hyperparameter sweep.)"
      ],
      "metadata": {
        "id": "lidnjN2-dX8y"
      }
    },
    {
      "cell_type": "markdown",
      "source": [
        "### Choice 1: D=100, n=10, m = 5, S = 0.9, I = 0.8"
      ],
      "metadata": {
        "id": "h5Wns25mkwb9"
      }
    },
    {
      "cell_type": "code",
      "source": [
        "batch_size: int = 100\n",
        "n_features: int = 10\n",
        "n_hidden: int = 5\n",
        "sparsity: float = 0.9\n",
        "importance: float = 0.8\n",
        "\n",
        "epochs = 5000\n",
        "\n",
        "dataset = generate_batch_with_norm(batch_size, n_features, sparsity).to(device)\n",
        "model = ReluModel(n_features, n_hidden).to(device)\n",
        "optimizer = t.optim.Adam(model.parameters(), lr = lr)\n",
        "\n",
        "for step in tqdm(range(epochs)):\n",
        "  train_loss = train_tms_fixed(model, dataset, optimizer, importance)\n",
        "  if (step % 1000 == 0):\n",
        "    print(f\"Epoch {step}: Train loss {train_loss:.4f}\")"
      ],
      "metadata": {
        "colab": {
          "base_uri": "https://localhost:8080/",
          "height": 136,
          "referenced_widgets": [
            "d07f7701d3a64af08d8b286909290636",
            "7a81179a9cd0433fb881ce6d0442c5b2",
            "c44df8861e4b4392a3ba34e7f001d41c",
            "e2ab0048415145f5bdc4a7c900b26d88",
            "28d98a1fe7854ba2b713709801f1912f",
            "3d731c2d4c5742129eb9a2796f77a0a0",
            "5671e25e23ff494eb1eb0510b73b0e85",
            "613eb28e01b64dc6b021cf5ecd9d5dee",
            "2666b539f86c4a2d975d34faf265ba05",
            "86b7e51714df4b138d31da660269b141",
            "eaa16dd26bda4a9290c72dd313e9c15f"
          ]
        },
        "id": "r1VjsVbTcpcf",
        "outputId": "13b80073-1b15-4b19-ddb7-81ada8e0d1bd"
      },
      "execution_count": 22,
      "outputs": [
        {
          "output_type": "display_data",
          "data": {
            "text/plain": [
              "  0%|          | 0/5000 [00:00<?, ?it/s]"
            ],
            "application/vnd.jupyter.widget-view+json": {
              "version_major": 2,
              "version_minor": 0,
              "model_id": "d07f7701d3a64af08d8b286909290636"
            }
          },
          "metadata": {}
        },
        {
          "output_type": "stream",
          "name": "stdout",
          "text": [
            "Epoch 0: Train loss 0.0137\n",
            "Epoch 1000: Train loss 0.0004\n",
            "Epoch 2000: Train loss 0.0003\n",
            "Epoch 3000: Train loss 0.0003\n",
            "Epoch 4000: Train loss 0.0001\n"
          ]
        }
      ]
    },
    {
      "cell_type": "code",
      "source": [
        "linearized_model = LinearisedPredictor(model, dataset, dataset, ridge = 1e-5)\n",
        "(loss_acc_gap(model, linearized_model, dataset, dataset, expand_around_model=True), r2_score(model, linearized_model, dataset, expand_around_model=True))"
      ],
      "metadata": {
        "colab": {
          "base_uri": "https://localhost:8080/"
        },
        "id": "ycPYn-l4k2K6",
        "outputId": "eb1959b3-2b6f-440a-ca1b-84c6519805b1"
      },
      "execution_count": 23,
      "outputs": [
        {
          "output_type": "execute_result",
          "data": {
            "text/plain": [
              "((0.7212332593095186, 0.0), tensor(0.9986, device='cuda:0'))"
            ]
          },
          "metadata": {},
          "execution_count": 23
        }
      ]
    },
    {
      "cell_type": "code",
      "source": [
        "(loss_acc_gap(model, linearized_model, dataset, dataset, expand_around_model=False), r2_score(model, linearized_model, dataset, expand_around_model=False))"
      ],
      "metadata": {
        "colab": {
          "base_uri": "https://localhost:8080/"
        },
        "id": "SplS5GKMfkmt",
        "outputId": "cbd9e90f-479f-485c-f55c-d6a7c4a1ccf8"
      },
      "execution_count": 24,
      "outputs": [
        {
          "output_type": "execute_result",
          "data": {
            "text/plain": [
              "((0.7217997166081065, 0.0), tensor(0.9987, device='cuda:0'))"
            ]
          },
          "metadata": {},
          "execution_count": 24
        }
      ]
    },
    {
      "cell_type": "markdown",
      "source": [
        "ChatGPT (o3) suggests cutoffs of <=1.10 loss ratio (acceptable: 1.1-1.3), <= 2pp accuracy gain (acceptable: 2pp-5pp) and R2 score >=0.8.\n",
        "\n",
        "These hyperparameters put us squarely in this range. In fact, the eNTK approximation does better than the real model.\n",
        "\n",
        "The eNTK approximation does about equally well in the pure NTK and when we linearize around the trained model."
      ],
      "metadata": {
        "id": "AQdMp2qSlUKd"
      }
    },
    {
      "cell_type": "markdown",
      "source": [
        "#### Sanity check that it's stable to a larger dataset: D=1000, n=10, m = 5, S = 0.9, I = 0.8"
      ],
      "metadata": {
        "id": "tvzHrruBnECa"
      }
    },
    {
      "cell_type": "code",
      "source": [
        "batch_size: int = 1000\n",
        "n_features: int = 10\n",
        "n_hidden: int = 5\n",
        "sparsity: float = 0.9\n",
        "importance: float = 0.8\n",
        "\n",
        "epochs = 5000\n",
        "\n",
        "dataset = generate_batch_with_norm(batch_size, n_features, sparsity).to(device)\n",
        "model = ReluModel(n_features, n_hidden).to(device)\n",
        "optimizer = t.optim.Adam(model.parameters(), lr = lr)\n",
        "\n",
        "for step in tqdm(range(epochs)):\n",
        "  train_loss = train_tms_fixed(model, dataset, optimizer, importance)\n",
        "  if (step % 1000 == 0):\n",
        "    print(f\"Epoch {step}: Train loss {train_loss:.4f}\")"
      ],
      "metadata": {
        "colab": {
          "base_uri": "https://localhost:8080/",
          "height": 136,
          "referenced_widgets": [
            "0e74294bd2c0417b9fce7e3e9e00d202",
            "1178ee09b0cf459380aee1df3e457b7f",
            "121eabbcc721430990723a536403bb92",
            "cb8557024e5b408aa4c63eb502b628a9",
            "7b171c045b964b7c9f6fb5194ca1c7f4",
            "7ac06720b3574df3b2b05d4ddf2994e8",
            "5da535ebda4342dc838a8640967d9b7a",
            "172b7566b8604869aa2d6a37f18cac42",
            "9361698ddfd4494d8842508b7aca525d",
            "0645c6c30b7646b9b2c57c1c2de826db",
            "7135727f22664648b0c5da73d22eba0e"
          ]
        },
        "id": "oVkwlSCqnIY-",
        "outputId": "f2f959e3-d351-4a25-ffc2-ed978ceed617"
      },
      "execution_count": 11,
      "outputs": [
        {
          "output_type": "display_data",
          "data": {
            "text/plain": [
              "  0%|          | 0/5000 [00:00<?, ?it/s]"
            ],
            "application/vnd.jupyter.widget-view+json": {
              "version_major": 2,
              "version_minor": 0,
              "model_id": "0e74294bd2c0417b9fce7e3e9e00d202"
            }
          },
          "metadata": {}
        },
        {
          "output_type": "stream",
          "name": "stdout",
          "text": [
            "Epoch 0: Train loss 0.0207\n",
            "Epoch 1000: Train loss 0.0010\n",
            "Epoch 2000: Train loss 0.0008\n",
            "Epoch 3000: Train loss 0.0008\n",
            "Epoch 4000: Train loss 0.0008\n"
          ]
        }
      ]
    },
    {
      "cell_type": "markdown",
      "source": [
        "Now at ridge parameter 1e-5, the result is numerically unstable, possibly because the larger dataset size -> smaller NTK eigenvalues on the tail. But at the ~smallest ridge parameter OOM where the metrics aren't terrible, they seem reasonable.\n",
        "\n",
        "Note that if we keep cranking *up* the ridge parameter we get good metrics but are probably killing off all the fine-grained structure."
      ],
      "metadata": {
        "id": "uBN7hliIqUPS"
      }
    },
    {
      "cell_type": "code",
      "source": [
        "linearized_model = LinearisedPredictor(model, dataset, dataset, ridge = 1e-4)\n",
        "(loss_acc_gap(model, linearized_model, dataset, dataset, expand_around_model=True), r2_score(model, linearized_model, dataset, expand_around_model=True))"
      ],
      "metadata": {
        "colab": {
          "base_uri": "https://localhost:8080/"
        },
        "id": "9PnQCrxinSHm",
        "outputId": "9f073b5e-59f9-4132-ca0e-f5e4a0a55d51"
      },
      "execution_count": 12,
      "outputs": [
        {
          "output_type": "execute_result",
          "data": {
            "text/plain": [
              "((1.245384489874358, 0.700002908706665), tensor(0.9913))"
            ]
          },
          "metadata": {},
          "execution_count": 12
        }
      ]
    },
    {
      "cell_type": "code",
      "source": [
        "(loss_acc_gap(model, linearized_model, dataset, dataset, expand_around_model=False), r2_score(model, linearized_model, dataset, expand_around_model=False))"
      ],
      "metadata": {
        "colab": {
          "base_uri": "https://localhost:8080/"
        },
        "id": "sx0w7rNXnW-0",
        "outputId": "29d1ca77-4369-498f-b6c6-e465bb548b86"
      },
      "execution_count": 13,
      "outputs": [
        {
          "output_type": "execute_result",
          "data": {
            "text/plain": [
              "((1.1662084054387363, 0.40000081062316895), tensor(0.9937))"
            ]
          },
          "metadata": {},
          "execution_count": 13
        }
      ]
    },
    {
      "cell_type": "code",
      "source": [
        "linearized_model = LinearisedPredictor(model, dataset, dataset, ridge = 1)\n",
        "(loss_acc_gap(model, linearized_model, dataset, dataset, expand_around_model=True), r2_score(model, linearized_model, dataset, expand_around_model=True))"
      ],
      "metadata": {
        "colab": {
          "base_uri": "https://localhost:8080/"
        },
        "id": "85nU25V5o7H5",
        "outputId": "6c7e3e01-4771-4b51-9011-5239a1793462"
      },
      "execution_count": 14,
      "outputs": [
        {
          "output_type": "execute_result",
          "data": {
            "text/plain": [
              "((0.9919644397523286, -0.09999871253967285), tensor(0.9997))"
            ]
          },
          "metadata": {},
          "execution_count": 14
        }
      ]
    },
    {
      "cell_type": "markdown",
      "source": [
        "### Choice 2 [if we want more features]: D=500, n=50, m = {5 or 10}, S = 0.9, I = 0.8"
      ],
      "metadata": {
        "id": "V6kITZOGlh64"
      }
    },
    {
      "cell_type": "code",
      "source": [
        "batch_size: int = 500\n",
        "n_features: int = 50\n",
        "n_hidden: int = 5\n",
        "sparsity: float = 0.9\n",
        "importance: float = 0.8\n",
        "\n",
        "epochs = 5001\n",
        "\n",
        "dataset = generate_batch_with_norm(batch_size, n_features, sparsity).to(device)\n",
        "model = ReluModel(n_features, n_hidden).to(device)\n",
        "optimizer = t.optim.Adam(model.parameters(), lr = lr)\n",
        "\n",
        "for step in tqdm(range(epochs)):\n",
        "  train_loss = train_tms_fixed(model, dataset, optimizer, importance)\n",
        "  if (step % 1000 == 0):\n",
        "    print(f\"Epoch {step}: Train loss {train_loss:.4f}\")"
      ],
      "metadata": {
        "colab": {
          "base_uri": "https://localhost:8080/",
          "height": 153,
          "referenced_widgets": [
            "a8c3ff581d414d059510729ba426b604",
            "26b030aeb8c74f20a5bf5fc867198bfa",
            "4a1d6ddece5d4d9984e430b85b45c50b",
            "9d788755a6414eecab0ba00aa3e2ddcc",
            "4a961c40445449be89e9cbdd584e0fda",
            "f1bc6757ee984dc88c00e13aa33e6de5",
            "a210ab3ae6724e4186f86d6be02ec4c1",
            "8f88a5981f014a24943a9f05571df8f0",
            "4f3c1ece317746ca99867294a4509783",
            "3af46871f79b49768bc0d321d16374a2",
            "d5933e3d8006424ca6819e4aec425727"
          ]
        },
        "id": "rDDziVZ-lo5g",
        "outputId": "7ab87f92-c1d7-4305-e88a-48796dba8577"
      },
      "execution_count": 38,
      "outputs": [
        {
          "output_type": "display_data",
          "data": {
            "text/plain": [
              "  0%|          | 0/5001 [00:00<?, ?it/s]"
            ],
            "application/vnd.jupyter.widget-view+json": {
              "version_major": 2,
              "version_minor": 0,
              "model_id": "a8c3ff581d414d059510729ba426b604"
            }
          },
          "metadata": {}
        },
        {
          "output_type": "stream",
          "name": "stdout",
          "text": [
            "Epoch 0: Train loss 0.0017\n",
            "Epoch 1000: Train loss 0.0002\n",
            "Epoch 2000: Train loss 0.0002\n",
            "Epoch 3000: Train loss 0.0002\n",
            "Epoch 4000: Train loss 0.0002\n",
            "Epoch 5000: Train loss 0.0002\n"
          ]
        }
      ]
    },
    {
      "cell_type": "code",
      "source": [
        "linearized_model = LinearisedPredictor(model, dataset, dataset, ridge = 1e-4)\n",
        "(loss_acc_gap(model, linearized_model, dataset, dataset, expand_around_model=True), r2_score(model, linearized_model, dataset, expand_around_model=True))"
      ],
      "metadata": {
        "colab": {
          "base_uri": "https://localhost:8080/"
        },
        "id": "OjR8Y2Ujlv8z",
        "outputId": "fc7a33c7-5ab0-4d37-df61-2ce96f622899"
      },
      "execution_count": 39,
      "outputs": [
        {
          "output_type": "execute_result",
          "data": {
            "text/plain": [
              "((0.9993309602922036, 1.600000262260437), tensor(0.9344, device='cuda:0'))"
            ]
          },
          "metadata": {},
          "execution_count": 39
        }
      ]
    },
    {
      "cell_type": "code",
      "source": [
        "(loss_acc_gap(model, linearized_model, dataset, dataset, expand_around_model=False), r2_score(model, linearized_model, dataset, expand_around_model=False))"
      ],
      "metadata": {
        "colab": {
          "base_uri": "https://localhost:8080/"
        },
        "id": "0DL26zpllyiK",
        "outputId": "b59975ed-6480-4c04-d956-c95c8f1f1387"
      },
      "execution_count": 40,
      "outputs": [
        {
          "output_type": "execute_result",
          "data": {
            "text/plain": [
              "((0.9987342335383874, 2.400001883506775), tensor(0.9303, device='cuda:0'))"
            ]
          },
          "metadata": {},
          "execution_count": 40
        }
      ]
    },
    {
      "cell_type": "markdown",
      "source": [
        "From ridge=1e-5 to 1e-4, the R^2 increases monotonically from very negative to what we see here."
      ],
      "metadata": {
        "id": "os0f_Jl7vy23"
      }
    },
    {
      "cell_type": "code",
      "source": [
        "batch_size: int = 500\n",
        "n_features: int = 50\n",
        "n_hidden: int = 10\n",
        "sparsity: float = 0.9\n",
        "importance: float = 0.8\n",
        "\n",
        "epochs = 5001\n",
        "\n",
        "dataset = generate_batch_with_norm(batch_size, n_features, sparsity).to(device)\n",
        "model = ReluModel(n_features, n_hidden).to(device)\n",
        "optimizer = t.optim.Adam(model.parameters(), lr = lr)\n",
        "\n",
        "for step in tqdm(range(epochs)):\n",
        "  train_loss = train_tms_fixed(model, dataset, optimizer, importance)\n",
        "  if (step % 1000 == 0):\n",
        "    print(f\"Epoch {step}: Train loss {train_loss:.4f}\")"
      ],
      "metadata": {
        "colab": {
          "base_uri": "https://localhost:8080/",
          "height": 153,
          "referenced_widgets": [
            "3eb47c65acab400bab4c494360e83a7e",
            "43409a8658cc491e97da71cdf042740f",
            "48be3012cffc40dbaf3b7881a2b7ac9c",
            "f8d76ba29c1a4bdfaf22e7707f6e9c02",
            "83cea307662b49488f6401f9729c126d",
            "4d4cbc923bc048369b78679f26d83c00",
            "b0cfca88f75c416ba2577af01ab5f49b",
            "b302210c807d434291d93e867bb5eb01",
            "a9f1d041c75b41c582869a943bb3a6e2",
            "993e315bcd6c480fb667299eef1a3078",
            "2bb7f7f0a4174ae79646ff08ea697620"
          ]
        },
        "id": "_pgw2rgSwXDO",
        "outputId": "4fd41257-3997-4cea-d6ce-1d74804117c1"
      },
      "execution_count": 53,
      "outputs": [
        {
          "output_type": "display_data",
          "data": {
            "text/plain": [
              "  0%|          | 0/5001 [00:00<?, ?it/s]"
            ],
            "application/vnd.jupyter.widget-view+json": {
              "version_major": 2,
              "version_minor": 0,
              "model_id": "3eb47c65acab400bab4c494360e83a7e"
            }
          },
          "metadata": {}
        },
        {
          "output_type": "stream",
          "name": "stdout",
          "text": [
            "Epoch 0: Train loss 0.0015\n",
            "Epoch 1000: Train loss 0.0001\n",
            "Epoch 2000: Train loss 0.0000\n",
            "Epoch 3000: Train loss 0.0000\n",
            "Epoch 4000: Train loss 0.0000\n",
            "Epoch 5000: Train loss 0.0000\n"
          ]
        }
      ]
    },
    {
      "cell_type": "code",
      "source": [
        "linearized_model = LinearisedPredictor(model, dataset, dataset, ridge = 1e-4)\n",
        "(loss_acc_gap(model, linearized_model, dataset, dataset, expand_around_model=True), r2_score(model, linearized_model, dataset, expand_around_model=True))"
      ],
      "metadata": {
        "colab": {
          "base_uri": "https://localhost:8080/"
        },
        "id": "AJJ1_I6UwXto",
        "outputId": "ffae9e68-467c-4e20-d553-68cef5e3aea1"
      },
      "execution_count": 54,
      "outputs": [
        {
          "output_type": "execute_result",
          "data": {
            "text/plain": [
              "((0.9879742478843584, 1.2000024318695068), tensor(0.9587, device='cuda:0'))"
            ]
          },
          "metadata": {},
          "execution_count": 54
        }
      ]
    },
    {
      "cell_type": "code",
      "source": [
        "(loss_acc_gap(model, linearized_model, dataset, dataset, expand_around_model=False), r2_score(model, linearized_model, dataset, expand_around_model=False))"
      ],
      "metadata": {
        "colab": {
          "base_uri": "https://localhost:8080/"
        },
        "id": "LCk_PuoOwaGO",
        "outputId": "b4ea671d-334b-474c-f873-7ec6ce5c3a45"
      },
      "execution_count": 55,
      "outputs": [
        {
          "output_type": "execute_result",
          "data": {
            "text/plain": [
              "((0.9881908439223093, 1.3999998569488525), tensor(0.9594, device='cuda:0'))"
            ]
          },
          "metadata": {},
          "execution_count": 55
        }
      ]
    }
  ],
  "metadata": {
    "colab": {
      "collapsed_sections": [
        "wXbpe7ge7R12",
        "G2EcvAd0HLWU"
      ],
      "provenance": [],
      "gpuType": "T4",
      "authorship_tag": "ABX9TyM2rHo3Vi5Qn8OZvr2CCKQA",
      "include_colab_link": true
    },
    "kernelspec": {
      "display_name": "Python 3",
      "name": "python3"
    },
    "language_info": {
      "name": "python"
    },
    "widgets": {
      "application/vnd.jupyter.widget-state+json": {
        "22a27e527775493f86dda74983b4824b": {
          "model_module": "@jupyter-widgets/controls",
          "model_name": "HBoxModel",
          "model_module_version": "1.5.0",
          "state": {
            "_dom_classes": [],
            "_model_module": "@jupyter-widgets/controls",
            "_model_module_version": "1.5.0",
            "_model_name": "HBoxModel",
            "_view_count": null,
            "_view_module": "@jupyter-widgets/controls",
            "_view_module_version": "1.5.0",
            "_view_name": "HBoxView",
            "box_style": "",
            "children": [
              "IPY_MODEL_0443da564efb4618adaf3b57ddcfd176",
              "IPY_MODEL_2aa643ba570746449c946549738ab380",
              "IPY_MODEL_2f64dc380a8e406fb494a9341b71a16f"
            ],
            "layout": "IPY_MODEL_26269df9492a4f54820c0a0e8951f975"
          }
        },
        "0443da564efb4618adaf3b57ddcfd176": {
          "model_module": "@jupyter-widgets/controls",
          "model_name": "HTMLModel",
          "model_module_version": "1.5.0",
          "state": {
            "_dom_classes": [],
            "_model_module": "@jupyter-widgets/controls",
            "_model_module_version": "1.5.0",
            "_model_name": "HTMLModel",
            "_view_count": null,
            "_view_module": "@jupyter-widgets/controls",
            "_view_module_version": "1.5.0",
            "_view_name": "HTMLView",
            "description": "",
            "description_tooltip": null,
            "layout": "IPY_MODEL_cefec69cff7743f2ad1687ba4984b1e2",
            "placeholder": "​",
            "style": "IPY_MODEL_6d83b2694fd843338978fef994af008e",
            "value": "100%"
          }
        },
        "2aa643ba570746449c946549738ab380": {
          "model_module": "@jupyter-widgets/controls",
          "model_name": "FloatProgressModel",
          "model_module_version": "1.5.0",
          "state": {
            "_dom_classes": [],
            "_model_module": "@jupyter-widgets/controls",
            "_model_module_version": "1.5.0",
            "_model_name": "FloatProgressModel",
            "_view_count": null,
            "_view_module": "@jupyter-widgets/controls",
            "_view_module_version": "1.5.0",
            "_view_name": "ProgressView",
            "bar_style": "success",
            "description": "",
            "description_tooltip": null,
            "layout": "IPY_MODEL_c438cf9dd9bd44669d6ae820689c7fc7",
            "max": 2001,
            "min": 0,
            "orientation": "horizontal",
            "style": "IPY_MODEL_2f3d31d9dcf44ff393dd99088b8961a0",
            "value": 2001
          }
        },
        "2f64dc380a8e406fb494a9341b71a16f": {
          "model_module": "@jupyter-widgets/controls",
          "model_name": "HTMLModel",
          "model_module_version": "1.5.0",
          "state": {
            "_dom_classes": [],
            "_model_module": "@jupyter-widgets/controls",
            "_model_module_version": "1.5.0",
            "_model_name": "HTMLModel",
            "_view_count": null,
            "_view_module": "@jupyter-widgets/controls",
            "_view_module_version": "1.5.0",
            "_view_name": "HTMLView",
            "description": "",
            "description_tooltip": null,
            "layout": "IPY_MODEL_127bf3bc4f374459b46f64b167d38a66",
            "placeholder": "​",
            "style": "IPY_MODEL_c9abe6e80aed4a49987aabed81b3394d",
            "value": " 2001/2001 [00:09&lt;00:00, 142.36it/s]"
          }
        },
        "26269df9492a4f54820c0a0e8951f975": {
          "model_module": "@jupyter-widgets/base",
          "model_name": "LayoutModel",
          "model_module_version": "1.2.0",
          "state": {
            "_model_module": "@jupyter-widgets/base",
            "_model_module_version": "1.2.0",
            "_model_name": "LayoutModel",
            "_view_count": null,
            "_view_module": "@jupyter-widgets/base",
            "_view_module_version": "1.2.0",
            "_view_name": "LayoutView",
            "align_content": null,
            "align_items": null,
            "align_self": null,
            "border": null,
            "bottom": null,
            "display": null,
            "flex": null,
            "flex_flow": null,
            "grid_area": null,
            "grid_auto_columns": null,
            "grid_auto_flow": null,
            "grid_auto_rows": null,
            "grid_column": null,
            "grid_gap": null,
            "grid_row": null,
            "grid_template_areas": null,
            "grid_template_columns": null,
            "grid_template_rows": null,
            "height": null,
            "justify_content": null,
            "justify_items": null,
            "left": null,
            "margin": null,
            "max_height": null,
            "max_width": null,
            "min_height": null,
            "min_width": null,
            "object_fit": null,
            "object_position": null,
            "order": null,
            "overflow": null,
            "overflow_x": null,
            "overflow_y": null,
            "padding": null,
            "right": null,
            "top": null,
            "visibility": null,
            "width": null
          }
        },
        "cefec69cff7743f2ad1687ba4984b1e2": {
          "model_module": "@jupyter-widgets/base",
          "model_name": "LayoutModel",
          "model_module_version": "1.2.0",
          "state": {
            "_model_module": "@jupyter-widgets/base",
            "_model_module_version": "1.2.0",
            "_model_name": "LayoutModel",
            "_view_count": null,
            "_view_module": "@jupyter-widgets/base",
            "_view_module_version": "1.2.0",
            "_view_name": "LayoutView",
            "align_content": null,
            "align_items": null,
            "align_self": null,
            "border": null,
            "bottom": null,
            "display": null,
            "flex": null,
            "flex_flow": null,
            "grid_area": null,
            "grid_auto_columns": null,
            "grid_auto_flow": null,
            "grid_auto_rows": null,
            "grid_column": null,
            "grid_gap": null,
            "grid_row": null,
            "grid_template_areas": null,
            "grid_template_columns": null,
            "grid_template_rows": null,
            "height": null,
            "justify_content": null,
            "justify_items": null,
            "left": null,
            "margin": null,
            "max_height": null,
            "max_width": null,
            "min_height": null,
            "min_width": null,
            "object_fit": null,
            "object_position": null,
            "order": null,
            "overflow": null,
            "overflow_x": null,
            "overflow_y": null,
            "padding": null,
            "right": null,
            "top": null,
            "visibility": null,
            "width": null
          }
        },
        "6d83b2694fd843338978fef994af008e": {
          "model_module": "@jupyter-widgets/controls",
          "model_name": "DescriptionStyleModel",
          "model_module_version": "1.5.0",
          "state": {
            "_model_module": "@jupyter-widgets/controls",
            "_model_module_version": "1.5.0",
            "_model_name": "DescriptionStyleModel",
            "_view_count": null,
            "_view_module": "@jupyter-widgets/base",
            "_view_module_version": "1.2.0",
            "_view_name": "StyleView",
            "description_width": ""
          }
        },
        "c438cf9dd9bd44669d6ae820689c7fc7": {
          "model_module": "@jupyter-widgets/base",
          "model_name": "LayoutModel",
          "model_module_version": "1.2.0",
          "state": {
            "_model_module": "@jupyter-widgets/base",
            "_model_module_version": "1.2.0",
            "_model_name": "LayoutModel",
            "_view_count": null,
            "_view_module": "@jupyter-widgets/base",
            "_view_module_version": "1.2.0",
            "_view_name": "LayoutView",
            "align_content": null,
            "align_items": null,
            "align_self": null,
            "border": null,
            "bottom": null,
            "display": null,
            "flex": null,
            "flex_flow": null,
            "grid_area": null,
            "grid_auto_columns": null,
            "grid_auto_flow": null,
            "grid_auto_rows": null,
            "grid_column": null,
            "grid_gap": null,
            "grid_row": null,
            "grid_template_areas": null,
            "grid_template_columns": null,
            "grid_template_rows": null,
            "height": null,
            "justify_content": null,
            "justify_items": null,
            "left": null,
            "margin": null,
            "max_height": null,
            "max_width": null,
            "min_height": null,
            "min_width": null,
            "object_fit": null,
            "object_position": null,
            "order": null,
            "overflow": null,
            "overflow_x": null,
            "overflow_y": null,
            "padding": null,
            "right": null,
            "top": null,
            "visibility": null,
            "width": null
          }
        },
        "2f3d31d9dcf44ff393dd99088b8961a0": {
          "model_module": "@jupyter-widgets/controls",
          "model_name": "ProgressStyleModel",
          "model_module_version": "1.5.0",
          "state": {
            "_model_module": "@jupyter-widgets/controls",
            "_model_module_version": "1.5.0",
            "_model_name": "ProgressStyleModel",
            "_view_count": null,
            "_view_module": "@jupyter-widgets/base",
            "_view_module_version": "1.2.0",
            "_view_name": "StyleView",
            "bar_color": null,
            "description_width": ""
          }
        },
        "127bf3bc4f374459b46f64b167d38a66": {
          "model_module": "@jupyter-widgets/base",
          "model_name": "LayoutModel",
          "model_module_version": "1.2.0",
          "state": {
            "_model_module": "@jupyter-widgets/base",
            "_model_module_version": "1.2.0",
            "_model_name": "LayoutModel",
            "_view_count": null,
            "_view_module": "@jupyter-widgets/base",
            "_view_module_version": "1.2.0",
            "_view_name": "LayoutView",
            "align_content": null,
            "align_items": null,
            "align_self": null,
            "border": null,
            "bottom": null,
            "display": null,
            "flex": null,
            "flex_flow": null,
            "grid_area": null,
            "grid_auto_columns": null,
            "grid_auto_flow": null,
            "grid_auto_rows": null,
            "grid_column": null,
            "grid_gap": null,
            "grid_row": null,
            "grid_template_areas": null,
            "grid_template_columns": null,
            "grid_template_rows": null,
            "height": null,
            "justify_content": null,
            "justify_items": null,
            "left": null,
            "margin": null,
            "max_height": null,
            "max_width": null,
            "min_height": null,
            "min_width": null,
            "object_fit": null,
            "object_position": null,
            "order": null,
            "overflow": null,
            "overflow_x": null,
            "overflow_y": null,
            "padding": null,
            "right": null,
            "top": null,
            "visibility": null,
            "width": null
          }
        },
        "c9abe6e80aed4a49987aabed81b3394d": {
          "model_module": "@jupyter-widgets/controls",
          "model_name": "DescriptionStyleModel",
          "model_module_version": "1.5.0",
          "state": {
            "_model_module": "@jupyter-widgets/controls",
            "_model_module_version": "1.5.0",
            "_model_name": "DescriptionStyleModel",
            "_view_count": null,
            "_view_module": "@jupyter-widgets/base",
            "_view_module_version": "1.2.0",
            "_view_name": "StyleView",
            "description_width": ""
          }
        },
        "1a56ca5400744cb5a041fbba9427973c": {
          "model_module": "@jupyter-widgets/controls",
          "model_name": "HBoxModel",
          "model_module_version": "1.5.0",
          "state": {
            "_dom_classes": [],
            "_model_module": "@jupyter-widgets/controls",
            "_model_module_version": "1.5.0",
            "_model_name": "HBoxModel",
            "_view_count": null,
            "_view_module": "@jupyter-widgets/controls",
            "_view_module_version": "1.5.0",
            "_view_name": "HBoxView",
            "box_style": "",
            "children": [
              "IPY_MODEL_bc7ab9e4ee22485d9c04944919b32b2e",
              "IPY_MODEL_15fcc88d47614b5cb153f35e11cfa0e1",
              "IPY_MODEL_c558279341294019a351bf0ac832fb29"
            ],
            "layout": "IPY_MODEL_97284f945ddd45b68d2bde636c20d78f"
          }
        },
        "bc7ab9e4ee22485d9c04944919b32b2e": {
          "model_module": "@jupyter-widgets/controls",
          "model_name": "HTMLModel",
          "model_module_version": "1.5.0",
          "state": {
            "_dom_classes": [],
            "_model_module": "@jupyter-widgets/controls",
            "_model_module_version": "1.5.0",
            "_model_name": "HTMLModel",
            "_view_count": null,
            "_view_module": "@jupyter-widgets/controls",
            "_view_module_version": "1.5.0",
            "_view_name": "HTMLView",
            "description": "",
            "description_tooltip": null,
            "layout": "IPY_MODEL_108246422d2e4bc987e5b8a998f0e79a",
            "placeholder": "​",
            "style": "IPY_MODEL_6682ccfb737b4e7683a3dc25b0861934",
            "value": "100%"
          }
        },
        "15fcc88d47614b5cb153f35e11cfa0e1": {
          "model_module": "@jupyter-widgets/controls",
          "model_name": "FloatProgressModel",
          "model_module_version": "1.5.0",
          "state": {
            "_dom_classes": [],
            "_model_module": "@jupyter-widgets/controls",
            "_model_module_version": "1.5.0",
            "_model_name": "FloatProgressModel",
            "_view_count": null,
            "_view_module": "@jupyter-widgets/controls",
            "_view_module_version": "1.5.0",
            "_view_name": "ProgressView",
            "bar_style": "success",
            "description": "",
            "description_tooltip": null,
            "layout": "IPY_MODEL_5fe5c707e16a4fd3af7cea5405f53f5e",
            "max": 2001,
            "min": 0,
            "orientation": "horizontal",
            "style": "IPY_MODEL_d0e4405d95874a29acabee591f97d810",
            "value": 2001
          }
        },
        "c558279341294019a351bf0ac832fb29": {
          "model_module": "@jupyter-widgets/controls",
          "model_name": "HTMLModel",
          "model_module_version": "1.5.0",
          "state": {
            "_dom_classes": [],
            "_model_module": "@jupyter-widgets/controls",
            "_model_module_version": "1.5.0",
            "_model_name": "HTMLModel",
            "_view_count": null,
            "_view_module": "@jupyter-widgets/controls",
            "_view_module_version": "1.5.0",
            "_view_name": "HTMLView",
            "description": "",
            "description_tooltip": null,
            "layout": "IPY_MODEL_ef232f197187461da004040adeccffda",
            "placeholder": "​",
            "style": "IPY_MODEL_79c15dfa3b184b0dba624f392db3ea87",
            "value": " 2001/2001 [00:01&lt;00:00, 1168.11it/s]"
          }
        },
        "97284f945ddd45b68d2bde636c20d78f": {
          "model_module": "@jupyter-widgets/base",
          "model_name": "LayoutModel",
          "model_module_version": "1.2.0",
          "state": {
            "_model_module": "@jupyter-widgets/base",
            "_model_module_version": "1.2.0",
            "_model_name": "LayoutModel",
            "_view_count": null,
            "_view_module": "@jupyter-widgets/base",
            "_view_module_version": "1.2.0",
            "_view_name": "LayoutView",
            "align_content": null,
            "align_items": null,
            "align_self": null,
            "border": null,
            "bottom": null,
            "display": null,
            "flex": null,
            "flex_flow": null,
            "grid_area": null,
            "grid_auto_columns": null,
            "grid_auto_flow": null,
            "grid_auto_rows": null,
            "grid_column": null,
            "grid_gap": null,
            "grid_row": null,
            "grid_template_areas": null,
            "grid_template_columns": null,
            "grid_template_rows": null,
            "height": null,
            "justify_content": null,
            "justify_items": null,
            "left": null,
            "margin": null,
            "max_height": null,
            "max_width": null,
            "min_height": null,
            "min_width": null,
            "object_fit": null,
            "object_position": null,
            "order": null,
            "overflow": null,
            "overflow_x": null,
            "overflow_y": null,
            "padding": null,
            "right": null,
            "top": null,
            "visibility": null,
            "width": null
          }
        },
        "108246422d2e4bc987e5b8a998f0e79a": {
          "model_module": "@jupyter-widgets/base",
          "model_name": "LayoutModel",
          "model_module_version": "1.2.0",
          "state": {
            "_model_module": "@jupyter-widgets/base",
            "_model_module_version": "1.2.0",
            "_model_name": "LayoutModel",
            "_view_count": null,
            "_view_module": "@jupyter-widgets/base",
            "_view_module_version": "1.2.0",
            "_view_name": "LayoutView",
            "align_content": null,
            "align_items": null,
            "align_self": null,
            "border": null,
            "bottom": null,
            "display": null,
            "flex": null,
            "flex_flow": null,
            "grid_area": null,
            "grid_auto_columns": null,
            "grid_auto_flow": null,
            "grid_auto_rows": null,
            "grid_column": null,
            "grid_gap": null,
            "grid_row": null,
            "grid_template_areas": null,
            "grid_template_columns": null,
            "grid_template_rows": null,
            "height": null,
            "justify_content": null,
            "justify_items": null,
            "left": null,
            "margin": null,
            "max_height": null,
            "max_width": null,
            "min_height": null,
            "min_width": null,
            "object_fit": null,
            "object_position": null,
            "order": null,
            "overflow": null,
            "overflow_x": null,
            "overflow_y": null,
            "padding": null,
            "right": null,
            "top": null,
            "visibility": null,
            "width": null
          }
        },
        "6682ccfb737b4e7683a3dc25b0861934": {
          "model_module": "@jupyter-widgets/controls",
          "model_name": "DescriptionStyleModel",
          "model_module_version": "1.5.0",
          "state": {
            "_model_module": "@jupyter-widgets/controls",
            "_model_module_version": "1.5.0",
            "_model_name": "DescriptionStyleModel",
            "_view_count": null,
            "_view_module": "@jupyter-widgets/base",
            "_view_module_version": "1.2.0",
            "_view_name": "StyleView",
            "description_width": ""
          }
        },
        "5fe5c707e16a4fd3af7cea5405f53f5e": {
          "model_module": "@jupyter-widgets/base",
          "model_name": "LayoutModel",
          "model_module_version": "1.2.0",
          "state": {
            "_model_module": "@jupyter-widgets/base",
            "_model_module_version": "1.2.0",
            "_model_name": "LayoutModel",
            "_view_count": null,
            "_view_module": "@jupyter-widgets/base",
            "_view_module_version": "1.2.0",
            "_view_name": "LayoutView",
            "align_content": null,
            "align_items": null,
            "align_self": null,
            "border": null,
            "bottom": null,
            "display": null,
            "flex": null,
            "flex_flow": null,
            "grid_area": null,
            "grid_auto_columns": null,
            "grid_auto_flow": null,
            "grid_auto_rows": null,
            "grid_column": null,
            "grid_gap": null,
            "grid_row": null,
            "grid_template_areas": null,
            "grid_template_columns": null,
            "grid_template_rows": null,
            "height": null,
            "justify_content": null,
            "justify_items": null,
            "left": null,
            "margin": null,
            "max_height": null,
            "max_width": null,
            "min_height": null,
            "min_width": null,
            "object_fit": null,
            "object_position": null,
            "order": null,
            "overflow": null,
            "overflow_x": null,
            "overflow_y": null,
            "padding": null,
            "right": null,
            "top": null,
            "visibility": null,
            "width": null
          }
        },
        "d0e4405d95874a29acabee591f97d810": {
          "model_module": "@jupyter-widgets/controls",
          "model_name": "ProgressStyleModel",
          "model_module_version": "1.5.0",
          "state": {
            "_model_module": "@jupyter-widgets/controls",
            "_model_module_version": "1.5.0",
            "_model_name": "ProgressStyleModel",
            "_view_count": null,
            "_view_module": "@jupyter-widgets/base",
            "_view_module_version": "1.2.0",
            "_view_name": "StyleView",
            "bar_color": null,
            "description_width": ""
          }
        },
        "ef232f197187461da004040adeccffda": {
          "model_module": "@jupyter-widgets/base",
          "model_name": "LayoutModel",
          "model_module_version": "1.2.0",
          "state": {
            "_model_module": "@jupyter-widgets/base",
            "_model_module_version": "1.2.0",
            "_model_name": "LayoutModel",
            "_view_count": null,
            "_view_module": "@jupyter-widgets/base",
            "_view_module_version": "1.2.0",
            "_view_name": "LayoutView",
            "align_content": null,
            "align_items": null,
            "align_self": null,
            "border": null,
            "bottom": null,
            "display": null,
            "flex": null,
            "flex_flow": null,
            "grid_area": null,
            "grid_auto_columns": null,
            "grid_auto_flow": null,
            "grid_auto_rows": null,
            "grid_column": null,
            "grid_gap": null,
            "grid_row": null,
            "grid_template_areas": null,
            "grid_template_columns": null,
            "grid_template_rows": null,
            "height": null,
            "justify_content": null,
            "justify_items": null,
            "left": null,
            "margin": null,
            "max_height": null,
            "max_width": null,
            "min_height": null,
            "min_width": null,
            "object_fit": null,
            "object_position": null,
            "order": null,
            "overflow": null,
            "overflow_x": null,
            "overflow_y": null,
            "padding": null,
            "right": null,
            "top": null,
            "visibility": null,
            "width": null
          }
        },
        "79c15dfa3b184b0dba624f392db3ea87": {
          "model_module": "@jupyter-widgets/controls",
          "model_name": "DescriptionStyleModel",
          "model_module_version": "1.5.0",
          "state": {
            "_model_module": "@jupyter-widgets/controls",
            "_model_module_version": "1.5.0",
            "_model_name": "DescriptionStyleModel",
            "_view_count": null,
            "_view_module": "@jupyter-widgets/base",
            "_view_module_version": "1.2.0",
            "_view_name": "StyleView",
            "description_width": ""
          }
        },
        "a51e62b5ce5447a28f049782d90490a4": {
          "model_module": "@jupyter-widgets/controls",
          "model_name": "HBoxModel",
          "model_module_version": "1.5.0",
          "state": {
            "_dom_classes": [],
            "_model_module": "@jupyter-widgets/controls",
            "_model_module_version": "1.5.0",
            "_model_name": "HBoxModel",
            "_view_count": null,
            "_view_module": "@jupyter-widgets/controls",
            "_view_module_version": "1.5.0",
            "_view_name": "HBoxView",
            "box_style": "",
            "children": [
              "IPY_MODEL_21492b991f1c4190b2479474eeb7bfcc",
              "IPY_MODEL_2a4aeeaa6592463da2f87ee18f4b73ec",
              "IPY_MODEL_a0c42922c0344263a2bd696e3e13087b"
            ],
            "layout": "IPY_MODEL_79e3c622941046aa8acf95e8df0d143e"
          }
        },
        "21492b991f1c4190b2479474eeb7bfcc": {
          "model_module": "@jupyter-widgets/controls",
          "model_name": "HTMLModel",
          "model_module_version": "1.5.0",
          "state": {
            "_dom_classes": [],
            "_model_module": "@jupyter-widgets/controls",
            "_model_module_version": "1.5.0",
            "_model_name": "HTMLModel",
            "_view_count": null,
            "_view_module": "@jupyter-widgets/controls",
            "_view_module_version": "1.5.0",
            "_view_name": "HTMLView",
            "description": "",
            "description_tooltip": null,
            "layout": "IPY_MODEL_c59ef631a7f446a9944d9e61fff8e517",
            "placeholder": "​",
            "style": "IPY_MODEL_c99aeb2ac4284038b0fb679c5903de23",
            "value": "100%"
          }
        },
        "2a4aeeaa6592463da2f87ee18f4b73ec": {
          "model_module": "@jupyter-widgets/controls",
          "model_name": "FloatProgressModel",
          "model_module_version": "1.5.0",
          "state": {
            "_dom_classes": [],
            "_model_module": "@jupyter-widgets/controls",
            "_model_module_version": "1.5.0",
            "_model_name": "FloatProgressModel",
            "_view_count": null,
            "_view_module": "@jupyter-widgets/controls",
            "_view_module_version": "1.5.0",
            "_view_name": "ProgressView",
            "bar_style": "success",
            "description": "",
            "description_tooltip": null,
            "layout": "IPY_MODEL_93d2bffe021c4612b8735bd8dc143c2d",
            "max": 11,
            "min": 0,
            "orientation": "horizontal",
            "style": "IPY_MODEL_2b6112449320436e8a2bcc783a473fa6",
            "value": 11
          }
        },
        "a0c42922c0344263a2bd696e3e13087b": {
          "model_module": "@jupyter-widgets/controls",
          "model_name": "HTMLModel",
          "model_module_version": "1.5.0",
          "state": {
            "_dom_classes": [],
            "_model_module": "@jupyter-widgets/controls",
            "_model_module_version": "1.5.0",
            "_model_name": "HTMLModel",
            "_view_count": null,
            "_view_module": "@jupyter-widgets/controls",
            "_view_module_version": "1.5.0",
            "_view_name": "HTMLView",
            "description": "",
            "description_tooltip": null,
            "layout": "IPY_MODEL_bc529a3f349d40d6abae6469be337bbf",
            "placeholder": "​",
            "style": "IPY_MODEL_d726251bff244fad8ecebfb72ac6cac1",
            "value": " 11/11 [00:48&lt;00:00,  4.52s/it]"
          }
        },
        "79e3c622941046aa8acf95e8df0d143e": {
          "model_module": "@jupyter-widgets/base",
          "model_name": "LayoutModel",
          "model_module_version": "1.2.0",
          "state": {
            "_model_module": "@jupyter-widgets/base",
            "_model_module_version": "1.2.0",
            "_model_name": "LayoutModel",
            "_view_count": null,
            "_view_module": "@jupyter-widgets/base",
            "_view_module_version": "1.2.0",
            "_view_name": "LayoutView",
            "align_content": null,
            "align_items": null,
            "align_self": null,
            "border": null,
            "bottom": null,
            "display": null,
            "flex": null,
            "flex_flow": null,
            "grid_area": null,
            "grid_auto_columns": null,
            "grid_auto_flow": null,
            "grid_auto_rows": null,
            "grid_column": null,
            "grid_gap": null,
            "grid_row": null,
            "grid_template_areas": null,
            "grid_template_columns": null,
            "grid_template_rows": null,
            "height": null,
            "justify_content": null,
            "justify_items": null,
            "left": null,
            "margin": null,
            "max_height": null,
            "max_width": null,
            "min_height": null,
            "min_width": null,
            "object_fit": null,
            "object_position": null,
            "order": null,
            "overflow": null,
            "overflow_x": null,
            "overflow_y": null,
            "padding": null,
            "right": null,
            "top": null,
            "visibility": null,
            "width": null
          }
        },
        "c59ef631a7f446a9944d9e61fff8e517": {
          "model_module": "@jupyter-widgets/base",
          "model_name": "LayoutModel",
          "model_module_version": "1.2.0",
          "state": {
            "_model_module": "@jupyter-widgets/base",
            "_model_module_version": "1.2.0",
            "_model_name": "LayoutModel",
            "_view_count": null,
            "_view_module": "@jupyter-widgets/base",
            "_view_module_version": "1.2.0",
            "_view_name": "LayoutView",
            "align_content": null,
            "align_items": null,
            "align_self": null,
            "border": null,
            "bottom": null,
            "display": null,
            "flex": null,
            "flex_flow": null,
            "grid_area": null,
            "grid_auto_columns": null,
            "grid_auto_flow": null,
            "grid_auto_rows": null,
            "grid_column": null,
            "grid_gap": null,
            "grid_row": null,
            "grid_template_areas": null,
            "grid_template_columns": null,
            "grid_template_rows": null,
            "height": null,
            "justify_content": null,
            "justify_items": null,
            "left": null,
            "margin": null,
            "max_height": null,
            "max_width": null,
            "min_height": null,
            "min_width": null,
            "object_fit": null,
            "object_position": null,
            "order": null,
            "overflow": null,
            "overflow_x": null,
            "overflow_y": null,
            "padding": null,
            "right": null,
            "top": null,
            "visibility": null,
            "width": null
          }
        },
        "c99aeb2ac4284038b0fb679c5903de23": {
          "model_module": "@jupyter-widgets/controls",
          "model_name": "DescriptionStyleModel",
          "model_module_version": "1.5.0",
          "state": {
            "_model_module": "@jupyter-widgets/controls",
            "_model_module_version": "1.5.0",
            "_model_name": "DescriptionStyleModel",
            "_view_count": null,
            "_view_module": "@jupyter-widgets/base",
            "_view_module_version": "1.2.0",
            "_view_name": "StyleView",
            "description_width": ""
          }
        },
        "93d2bffe021c4612b8735bd8dc143c2d": {
          "model_module": "@jupyter-widgets/base",
          "model_name": "LayoutModel",
          "model_module_version": "1.2.0",
          "state": {
            "_model_module": "@jupyter-widgets/base",
            "_model_module_version": "1.2.0",
            "_model_name": "LayoutModel",
            "_view_count": null,
            "_view_module": "@jupyter-widgets/base",
            "_view_module_version": "1.2.0",
            "_view_name": "LayoutView",
            "align_content": null,
            "align_items": null,
            "align_self": null,
            "border": null,
            "bottom": null,
            "display": null,
            "flex": null,
            "flex_flow": null,
            "grid_area": null,
            "grid_auto_columns": null,
            "grid_auto_flow": null,
            "grid_auto_rows": null,
            "grid_column": null,
            "grid_gap": null,
            "grid_row": null,
            "grid_template_areas": null,
            "grid_template_columns": null,
            "grid_template_rows": null,
            "height": null,
            "justify_content": null,
            "justify_items": null,
            "left": null,
            "margin": null,
            "max_height": null,
            "max_width": null,
            "min_height": null,
            "min_width": null,
            "object_fit": null,
            "object_position": null,
            "order": null,
            "overflow": null,
            "overflow_x": null,
            "overflow_y": null,
            "padding": null,
            "right": null,
            "top": null,
            "visibility": null,
            "width": null
          }
        },
        "2b6112449320436e8a2bcc783a473fa6": {
          "model_module": "@jupyter-widgets/controls",
          "model_name": "ProgressStyleModel",
          "model_module_version": "1.5.0",
          "state": {
            "_model_module": "@jupyter-widgets/controls",
            "_model_module_version": "1.5.0",
            "_model_name": "ProgressStyleModel",
            "_view_count": null,
            "_view_module": "@jupyter-widgets/base",
            "_view_module_version": "1.2.0",
            "_view_name": "StyleView",
            "bar_color": null,
            "description_width": ""
          }
        },
        "bc529a3f349d40d6abae6469be337bbf": {
          "model_module": "@jupyter-widgets/base",
          "model_name": "LayoutModel",
          "model_module_version": "1.2.0",
          "state": {
            "_model_module": "@jupyter-widgets/base",
            "_model_module_version": "1.2.0",
            "_model_name": "LayoutModel",
            "_view_count": null,
            "_view_module": "@jupyter-widgets/base",
            "_view_module_version": "1.2.0",
            "_view_name": "LayoutView",
            "align_content": null,
            "align_items": null,
            "align_self": null,
            "border": null,
            "bottom": null,
            "display": null,
            "flex": null,
            "flex_flow": null,
            "grid_area": null,
            "grid_auto_columns": null,
            "grid_auto_flow": null,
            "grid_auto_rows": null,
            "grid_column": null,
            "grid_gap": null,
            "grid_row": null,
            "grid_template_areas": null,
            "grid_template_columns": null,
            "grid_template_rows": null,
            "height": null,
            "justify_content": null,
            "justify_items": null,
            "left": null,
            "margin": null,
            "max_height": null,
            "max_width": null,
            "min_height": null,
            "min_width": null,
            "object_fit": null,
            "object_position": null,
            "order": null,
            "overflow": null,
            "overflow_x": null,
            "overflow_y": null,
            "padding": null,
            "right": null,
            "top": null,
            "visibility": null,
            "width": null
          }
        },
        "d726251bff244fad8ecebfb72ac6cac1": {
          "model_module": "@jupyter-widgets/controls",
          "model_name": "DescriptionStyleModel",
          "model_module_version": "1.5.0",
          "state": {
            "_model_module": "@jupyter-widgets/controls",
            "_model_module_version": "1.5.0",
            "_model_name": "DescriptionStyleModel",
            "_view_count": null,
            "_view_module": "@jupyter-widgets/base",
            "_view_module_version": "1.2.0",
            "_view_name": "StyleView",
            "description_width": ""
          }
        },
        "d07f7701d3a64af08d8b286909290636": {
          "model_module": "@jupyter-widgets/controls",
          "model_name": "HBoxModel",
          "model_module_version": "1.5.0",
          "state": {
            "_dom_classes": [],
            "_model_module": "@jupyter-widgets/controls",
            "_model_module_version": "1.5.0",
            "_model_name": "HBoxModel",
            "_view_count": null,
            "_view_module": "@jupyter-widgets/controls",
            "_view_module_version": "1.5.0",
            "_view_name": "HBoxView",
            "box_style": "",
            "children": [
              "IPY_MODEL_7a81179a9cd0433fb881ce6d0442c5b2",
              "IPY_MODEL_c44df8861e4b4392a3ba34e7f001d41c",
              "IPY_MODEL_e2ab0048415145f5bdc4a7c900b26d88"
            ],
            "layout": "IPY_MODEL_28d98a1fe7854ba2b713709801f1912f"
          }
        },
        "7a81179a9cd0433fb881ce6d0442c5b2": {
          "model_module": "@jupyter-widgets/controls",
          "model_name": "HTMLModel",
          "model_module_version": "1.5.0",
          "state": {
            "_dom_classes": [],
            "_model_module": "@jupyter-widgets/controls",
            "_model_module_version": "1.5.0",
            "_model_name": "HTMLModel",
            "_view_count": null,
            "_view_module": "@jupyter-widgets/controls",
            "_view_module_version": "1.5.0",
            "_view_name": "HTMLView",
            "description": "",
            "description_tooltip": null,
            "layout": "IPY_MODEL_3d731c2d4c5742129eb9a2796f77a0a0",
            "placeholder": "​",
            "style": "IPY_MODEL_5671e25e23ff494eb1eb0510b73b0e85",
            "value": "100%"
          }
        },
        "c44df8861e4b4392a3ba34e7f001d41c": {
          "model_module": "@jupyter-widgets/controls",
          "model_name": "FloatProgressModel",
          "model_module_version": "1.5.0",
          "state": {
            "_dom_classes": [],
            "_model_module": "@jupyter-widgets/controls",
            "_model_module_version": "1.5.0",
            "_model_name": "FloatProgressModel",
            "_view_count": null,
            "_view_module": "@jupyter-widgets/controls",
            "_view_module_version": "1.5.0",
            "_view_name": "ProgressView",
            "bar_style": "success",
            "description": "",
            "description_tooltip": null,
            "layout": "IPY_MODEL_613eb28e01b64dc6b021cf5ecd9d5dee",
            "max": 5000,
            "min": 0,
            "orientation": "horizontal",
            "style": "IPY_MODEL_2666b539f86c4a2d975d34faf265ba05",
            "value": 5000
          }
        },
        "e2ab0048415145f5bdc4a7c900b26d88": {
          "model_module": "@jupyter-widgets/controls",
          "model_name": "HTMLModel",
          "model_module_version": "1.5.0",
          "state": {
            "_dom_classes": [],
            "_model_module": "@jupyter-widgets/controls",
            "_model_module_version": "1.5.0",
            "_model_name": "HTMLModel",
            "_view_count": null,
            "_view_module": "@jupyter-widgets/controls",
            "_view_module_version": "1.5.0",
            "_view_name": "HTMLView",
            "description": "",
            "description_tooltip": null,
            "layout": "IPY_MODEL_86b7e51714df4b138d31da660269b141",
            "placeholder": "​",
            "style": "IPY_MODEL_eaa16dd26bda4a9290c72dd313e9c15f",
            "value": " 5000/5000 [00:06&lt;00:00, 754.61it/s]"
          }
        },
        "28d98a1fe7854ba2b713709801f1912f": {
          "model_module": "@jupyter-widgets/base",
          "model_name": "LayoutModel",
          "model_module_version": "1.2.0",
          "state": {
            "_model_module": "@jupyter-widgets/base",
            "_model_module_version": "1.2.0",
            "_model_name": "LayoutModel",
            "_view_count": null,
            "_view_module": "@jupyter-widgets/base",
            "_view_module_version": "1.2.0",
            "_view_name": "LayoutView",
            "align_content": null,
            "align_items": null,
            "align_self": null,
            "border": null,
            "bottom": null,
            "display": null,
            "flex": null,
            "flex_flow": null,
            "grid_area": null,
            "grid_auto_columns": null,
            "grid_auto_flow": null,
            "grid_auto_rows": null,
            "grid_column": null,
            "grid_gap": null,
            "grid_row": null,
            "grid_template_areas": null,
            "grid_template_columns": null,
            "grid_template_rows": null,
            "height": null,
            "justify_content": null,
            "justify_items": null,
            "left": null,
            "margin": null,
            "max_height": null,
            "max_width": null,
            "min_height": null,
            "min_width": null,
            "object_fit": null,
            "object_position": null,
            "order": null,
            "overflow": null,
            "overflow_x": null,
            "overflow_y": null,
            "padding": null,
            "right": null,
            "top": null,
            "visibility": null,
            "width": null
          }
        },
        "3d731c2d4c5742129eb9a2796f77a0a0": {
          "model_module": "@jupyter-widgets/base",
          "model_name": "LayoutModel",
          "model_module_version": "1.2.0",
          "state": {
            "_model_module": "@jupyter-widgets/base",
            "_model_module_version": "1.2.0",
            "_model_name": "LayoutModel",
            "_view_count": null,
            "_view_module": "@jupyter-widgets/base",
            "_view_module_version": "1.2.0",
            "_view_name": "LayoutView",
            "align_content": null,
            "align_items": null,
            "align_self": null,
            "border": null,
            "bottom": null,
            "display": null,
            "flex": null,
            "flex_flow": null,
            "grid_area": null,
            "grid_auto_columns": null,
            "grid_auto_flow": null,
            "grid_auto_rows": null,
            "grid_column": null,
            "grid_gap": null,
            "grid_row": null,
            "grid_template_areas": null,
            "grid_template_columns": null,
            "grid_template_rows": null,
            "height": null,
            "justify_content": null,
            "justify_items": null,
            "left": null,
            "margin": null,
            "max_height": null,
            "max_width": null,
            "min_height": null,
            "min_width": null,
            "object_fit": null,
            "object_position": null,
            "order": null,
            "overflow": null,
            "overflow_x": null,
            "overflow_y": null,
            "padding": null,
            "right": null,
            "top": null,
            "visibility": null,
            "width": null
          }
        },
        "5671e25e23ff494eb1eb0510b73b0e85": {
          "model_module": "@jupyter-widgets/controls",
          "model_name": "DescriptionStyleModel",
          "model_module_version": "1.5.0",
          "state": {
            "_model_module": "@jupyter-widgets/controls",
            "_model_module_version": "1.5.0",
            "_model_name": "DescriptionStyleModel",
            "_view_count": null,
            "_view_module": "@jupyter-widgets/base",
            "_view_module_version": "1.2.0",
            "_view_name": "StyleView",
            "description_width": ""
          }
        },
        "613eb28e01b64dc6b021cf5ecd9d5dee": {
          "model_module": "@jupyter-widgets/base",
          "model_name": "LayoutModel",
          "model_module_version": "1.2.0",
          "state": {
            "_model_module": "@jupyter-widgets/base",
            "_model_module_version": "1.2.0",
            "_model_name": "LayoutModel",
            "_view_count": null,
            "_view_module": "@jupyter-widgets/base",
            "_view_module_version": "1.2.0",
            "_view_name": "LayoutView",
            "align_content": null,
            "align_items": null,
            "align_self": null,
            "border": null,
            "bottom": null,
            "display": null,
            "flex": null,
            "flex_flow": null,
            "grid_area": null,
            "grid_auto_columns": null,
            "grid_auto_flow": null,
            "grid_auto_rows": null,
            "grid_column": null,
            "grid_gap": null,
            "grid_row": null,
            "grid_template_areas": null,
            "grid_template_columns": null,
            "grid_template_rows": null,
            "height": null,
            "justify_content": null,
            "justify_items": null,
            "left": null,
            "margin": null,
            "max_height": null,
            "max_width": null,
            "min_height": null,
            "min_width": null,
            "object_fit": null,
            "object_position": null,
            "order": null,
            "overflow": null,
            "overflow_x": null,
            "overflow_y": null,
            "padding": null,
            "right": null,
            "top": null,
            "visibility": null,
            "width": null
          }
        },
        "2666b539f86c4a2d975d34faf265ba05": {
          "model_module": "@jupyter-widgets/controls",
          "model_name": "ProgressStyleModel",
          "model_module_version": "1.5.0",
          "state": {
            "_model_module": "@jupyter-widgets/controls",
            "_model_module_version": "1.5.0",
            "_model_name": "ProgressStyleModel",
            "_view_count": null,
            "_view_module": "@jupyter-widgets/base",
            "_view_module_version": "1.2.0",
            "_view_name": "StyleView",
            "bar_color": null,
            "description_width": ""
          }
        },
        "86b7e51714df4b138d31da660269b141": {
          "model_module": "@jupyter-widgets/base",
          "model_name": "LayoutModel",
          "model_module_version": "1.2.0",
          "state": {
            "_model_module": "@jupyter-widgets/base",
            "_model_module_version": "1.2.0",
            "_model_name": "LayoutModel",
            "_view_count": null,
            "_view_module": "@jupyter-widgets/base",
            "_view_module_version": "1.2.0",
            "_view_name": "LayoutView",
            "align_content": null,
            "align_items": null,
            "align_self": null,
            "border": null,
            "bottom": null,
            "display": null,
            "flex": null,
            "flex_flow": null,
            "grid_area": null,
            "grid_auto_columns": null,
            "grid_auto_flow": null,
            "grid_auto_rows": null,
            "grid_column": null,
            "grid_gap": null,
            "grid_row": null,
            "grid_template_areas": null,
            "grid_template_columns": null,
            "grid_template_rows": null,
            "height": null,
            "justify_content": null,
            "justify_items": null,
            "left": null,
            "margin": null,
            "max_height": null,
            "max_width": null,
            "min_height": null,
            "min_width": null,
            "object_fit": null,
            "object_position": null,
            "order": null,
            "overflow": null,
            "overflow_x": null,
            "overflow_y": null,
            "padding": null,
            "right": null,
            "top": null,
            "visibility": null,
            "width": null
          }
        },
        "eaa16dd26bda4a9290c72dd313e9c15f": {
          "model_module": "@jupyter-widgets/controls",
          "model_name": "DescriptionStyleModel",
          "model_module_version": "1.5.0",
          "state": {
            "_model_module": "@jupyter-widgets/controls",
            "_model_module_version": "1.5.0",
            "_model_name": "DescriptionStyleModel",
            "_view_count": null,
            "_view_module": "@jupyter-widgets/base",
            "_view_module_version": "1.2.0",
            "_view_name": "StyleView",
            "description_width": ""
          }
        },
        "0e74294bd2c0417b9fce7e3e9e00d202": {
          "model_module": "@jupyter-widgets/controls",
          "model_name": "HBoxModel",
          "model_module_version": "1.5.0",
          "state": {
            "_dom_classes": [],
            "_model_module": "@jupyter-widgets/controls",
            "_model_module_version": "1.5.0",
            "_model_name": "HBoxModel",
            "_view_count": null,
            "_view_module": "@jupyter-widgets/controls",
            "_view_module_version": "1.5.0",
            "_view_name": "HBoxView",
            "box_style": "",
            "children": [
              "IPY_MODEL_1178ee09b0cf459380aee1df3e457b7f",
              "IPY_MODEL_121eabbcc721430990723a536403bb92",
              "IPY_MODEL_cb8557024e5b408aa4c63eb502b628a9"
            ],
            "layout": "IPY_MODEL_7b171c045b964b7c9f6fb5194ca1c7f4"
          }
        },
        "1178ee09b0cf459380aee1df3e457b7f": {
          "model_module": "@jupyter-widgets/controls",
          "model_name": "HTMLModel",
          "model_module_version": "1.5.0",
          "state": {
            "_dom_classes": [],
            "_model_module": "@jupyter-widgets/controls",
            "_model_module_version": "1.5.0",
            "_model_name": "HTMLModel",
            "_view_count": null,
            "_view_module": "@jupyter-widgets/controls",
            "_view_module_version": "1.5.0",
            "_view_name": "HTMLView",
            "description": "",
            "description_tooltip": null,
            "layout": "IPY_MODEL_7ac06720b3574df3b2b05d4ddf2994e8",
            "placeholder": "​",
            "style": "IPY_MODEL_5da535ebda4342dc838a8640967d9b7a",
            "value": "100%"
          }
        },
        "121eabbcc721430990723a536403bb92": {
          "model_module": "@jupyter-widgets/controls",
          "model_name": "FloatProgressModel",
          "model_module_version": "1.5.0",
          "state": {
            "_dom_classes": [],
            "_model_module": "@jupyter-widgets/controls",
            "_model_module_version": "1.5.0",
            "_model_name": "FloatProgressModel",
            "_view_count": null,
            "_view_module": "@jupyter-widgets/controls",
            "_view_module_version": "1.5.0",
            "_view_name": "ProgressView",
            "bar_style": "success",
            "description": "",
            "description_tooltip": null,
            "layout": "IPY_MODEL_172b7566b8604869aa2d6a37f18cac42",
            "max": 5000,
            "min": 0,
            "orientation": "horizontal",
            "style": "IPY_MODEL_9361698ddfd4494d8842508b7aca525d",
            "value": 5000
          }
        },
        "cb8557024e5b408aa4c63eb502b628a9": {
          "model_module": "@jupyter-widgets/controls",
          "model_name": "HTMLModel",
          "model_module_version": "1.5.0",
          "state": {
            "_dom_classes": [],
            "_model_module": "@jupyter-widgets/controls",
            "_model_module_version": "1.5.0",
            "_model_name": "HTMLModel",
            "_view_count": null,
            "_view_module": "@jupyter-widgets/controls",
            "_view_module_version": "1.5.0",
            "_view_name": "HTMLView",
            "description": "",
            "description_tooltip": null,
            "layout": "IPY_MODEL_0645c6c30b7646b9b2c57c1c2de826db",
            "placeholder": "​",
            "style": "IPY_MODEL_7135727f22664648b0c5da73d22eba0e",
            "value": " 5000/5000 [00:05&lt;00:00, 928.27it/s]"
          }
        },
        "7b171c045b964b7c9f6fb5194ca1c7f4": {
          "model_module": "@jupyter-widgets/base",
          "model_name": "LayoutModel",
          "model_module_version": "1.2.0",
          "state": {
            "_model_module": "@jupyter-widgets/base",
            "_model_module_version": "1.2.0",
            "_model_name": "LayoutModel",
            "_view_count": null,
            "_view_module": "@jupyter-widgets/base",
            "_view_module_version": "1.2.0",
            "_view_name": "LayoutView",
            "align_content": null,
            "align_items": null,
            "align_self": null,
            "border": null,
            "bottom": null,
            "display": null,
            "flex": null,
            "flex_flow": null,
            "grid_area": null,
            "grid_auto_columns": null,
            "grid_auto_flow": null,
            "grid_auto_rows": null,
            "grid_column": null,
            "grid_gap": null,
            "grid_row": null,
            "grid_template_areas": null,
            "grid_template_columns": null,
            "grid_template_rows": null,
            "height": null,
            "justify_content": null,
            "justify_items": null,
            "left": null,
            "margin": null,
            "max_height": null,
            "max_width": null,
            "min_height": null,
            "min_width": null,
            "object_fit": null,
            "object_position": null,
            "order": null,
            "overflow": null,
            "overflow_x": null,
            "overflow_y": null,
            "padding": null,
            "right": null,
            "top": null,
            "visibility": null,
            "width": null
          }
        },
        "7ac06720b3574df3b2b05d4ddf2994e8": {
          "model_module": "@jupyter-widgets/base",
          "model_name": "LayoutModel",
          "model_module_version": "1.2.0",
          "state": {
            "_model_module": "@jupyter-widgets/base",
            "_model_module_version": "1.2.0",
            "_model_name": "LayoutModel",
            "_view_count": null,
            "_view_module": "@jupyter-widgets/base",
            "_view_module_version": "1.2.0",
            "_view_name": "LayoutView",
            "align_content": null,
            "align_items": null,
            "align_self": null,
            "border": null,
            "bottom": null,
            "display": null,
            "flex": null,
            "flex_flow": null,
            "grid_area": null,
            "grid_auto_columns": null,
            "grid_auto_flow": null,
            "grid_auto_rows": null,
            "grid_column": null,
            "grid_gap": null,
            "grid_row": null,
            "grid_template_areas": null,
            "grid_template_columns": null,
            "grid_template_rows": null,
            "height": null,
            "justify_content": null,
            "justify_items": null,
            "left": null,
            "margin": null,
            "max_height": null,
            "max_width": null,
            "min_height": null,
            "min_width": null,
            "object_fit": null,
            "object_position": null,
            "order": null,
            "overflow": null,
            "overflow_x": null,
            "overflow_y": null,
            "padding": null,
            "right": null,
            "top": null,
            "visibility": null,
            "width": null
          }
        },
        "5da535ebda4342dc838a8640967d9b7a": {
          "model_module": "@jupyter-widgets/controls",
          "model_name": "DescriptionStyleModel",
          "model_module_version": "1.5.0",
          "state": {
            "_model_module": "@jupyter-widgets/controls",
            "_model_module_version": "1.5.0",
            "_model_name": "DescriptionStyleModel",
            "_view_count": null,
            "_view_module": "@jupyter-widgets/base",
            "_view_module_version": "1.2.0",
            "_view_name": "StyleView",
            "description_width": ""
          }
        },
        "172b7566b8604869aa2d6a37f18cac42": {
          "model_module": "@jupyter-widgets/base",
          "model_name": "LayoutModel",
          "model_module_version": "1.2.0",
          "state": {
            "_model_module": "@jupyter-widgets/base",
            "_model_module_version": "1.2.0",
            "_model_name": "LayoutModel",
            "_view_count": null,
            "_view_module": "@jupyter-widgets/base",
            "_view_module_version": "1.2.0",
            "_view_name": "LayoutView",
            "align_content": null,
            "align_items": null,
            "align_self": null,
            "border": null,
            "bottom": null,
            "display": null,
            "flex": null,
            "flex_flow": null,
            "grid_area": null,
            "grid_auto_columns": null,
            "grid_auto_flow": null,
            "grid_auto_rows": null,
            "grid_column": null,
            "grid_gap": null,
            "grid_row": null,
            "grid_template_areas": null,
            "grid_template_columns": null,
            "grid_template_rows": null,
            "height": null,
            "justify_content": null,
            "justify_items": null,
            "left": null,
            "margin": null,
            "max_height": null,
            "max_width": null,
            "min_height": null,
            "min_width": null,
            "object_fit": null,
            "object_position": null,
            "order": null,
            "overflow": null,
            "overflow_x": null,
            "overflow_y": null,
            "padding": null,
            "right": null,
            "top": null,
            "visibility": null,
            "width": null
          }
        },
        "9361698ddfd4494d8842508b7aca525d": {
          "model_module": "@jupyter-widgets/controls",
          "model_name": "ProgressStyleModel",
          "model_module_version": "1.5.0",
          "state": {
            "_model_module": "@jupyter-widgets/controls",
            "_model_module_version": "1.5.0",
            "_model_name": "ProgressStyleModel",
            "_view_count": null,
            "_view_module": "@jupyter-widgets/base",
            "_view_module_version": "1.2.0",
            "_view_name": "StyleView",
            "bar_color": null,
            "description_width": ""
          }
        },
        "0645c6c30b7646b9b2c57c1c2de826db": {
          "model_module": "@jupyter-widgets/base",
          "model_name": "LayoutModel",
          "model_module_version": "1.2.0",
          "state": {
            "_model_module": "@jupyter-widgets/base",
            "_model_module_version": "1.2.0",
            "_model_name": "LayoutModel",
            "_view_count": null,
            "_view_module": "@jupyter-widgets/base",
            "_view_module_version": "1.2.0",
            "_view_name": "LayoutView",
            "align_content": null,
            "align_items": null,
            "align_self": null,
            "border": null,
            "bottom": null,
            "display": null,
            "flex": null,
            "flex_flow": null,
            "grid_area": null,
            "grid_auto_columns": null,
            "grid_auto_flow": null,
            "grid_auto_rows": null,
            "grid_column": null,
            "grid_gap": null,
            "grid_row": null,
            "grid_template_areas": null,
            "grid_template_columns": null,
            "grid_template_rows": null,
            "height": null,
            "justify_content": null,
            "justify_items": null,
            "left": null,
            "margin": null,
            "max_height": null,
            "max_width": null,
            "min_height": null,
            "min_width": null,
            "object_fit": null,
            "object_position": null,
            "order": null,
            "overflow": null,
            "overflow_x": null,
            "overflow_y": null,
            "padding": null,
            "right": null,
            "top": null,
            "visibility": null,
            "width": null
          }
        },
        "7135727f22664648b0c5da73d22eba0e": {
          "model_module": "@jupyter-widgets/controls",
          "model_name": "DescriptionStyleModel",
          "model_module_version": "1.5.0",
          "state": {
            "_model_module": "@jupyter-widgets/controls",
            "_model_module_version": "1.5.0",
            "_model_name": "DescriptionStyleModel",
            "_view_count": null,
            "_view_module": "@jupyter-widgets/base",
            "_view_module_version": "1.2.0",
            "_view_name": "StyleView",
            "description_width": ""
          }
        },
        "a8c3ff581d414d059510729ba426b604": {
          "model_module": "@jupyter-widgets/controls",
          "model_name": "HBoxModel",
          "model_module_version": "1.5.0",
          "state": {
            "_dom_classes": [],
            "_model_module": "@jupyter-widgets/controls",
            "_model_module_version": "1.5.0",
            "_model_name": "HBoxModel",
            "_view_count": null,
            "_view_module": "@jupyter-widgets/controls",
            "_view_module_version": "1.5.0",
            "_view_name": "HBoxView",
            "box_style": "",
            "children": [
              "IPY_MODEL_26b030aeb8c74f20a5bf5fc867198bfa",
              "IPY_MODEL_4a1d6ddece5d4d9984e430b85b45c50b",
              "IPY_MODEL_9d788755a6414eecab0ba00aa3e2ddcc"
            ],
            "layout": "IPY_MODEL_4a961c40445449be89e9cbdd584e0fda"
          }
        },
        "26b030aeb8c74f20a5bf5fc867198bfa": {
          "model_module": "@jupyter-widgets/controls",
          "model_name": "HTMLModel",
          "model_module_version": "1.5.0",
          "state": {
            "_dom_classes": [],
            "_model_module": "@jupyter-widgets/controls",
            "_model_module_version": "1.5.0",
            "_model_name": "HTMLModel",
            "_view_count": null,
            "_view_module": "@jupyter-widgets/controls",
            "_view_module_version": "1.5.0",
            "_view_name": "HTMLView",
            "description": "",
            "description_tooltip": null,
            "layout": "IPY_MODEL_f1bc6757ee984dc88c00e13aa33e6de5",
            "placeholder": "​",
            "style": "IPY_MODEL_a210ab3ae6724e4186f86d6be02ec4c1",
            "value": "100%"
          }
        },
        "4a1d6ddece5d4d9984e430b85b45c50b": {
          "model_module": "@jupyter-widgets/controls",
          "model_name": "FloatProgressModel",
          "model_module_version": "1.5.0",
          "state": {
            "_dom_classes": [],
            "_model_module": "@jupyter-widgets/controls",
            "_model_module_version": "1.5.0",
            "_model_name": "FloatProgressModel",
            "_view_count": null,
            "_view_module": "@jupyter-widgets/controls",
            "_view_module_version": "1.5.0",
            "_view_name": "ProgressView",
            "bar_style": "success",
            "description": "",
            "description_tooltip": null,
            "layout": "IPY_MODEL_8f88a5981f014a24943a9f05571df8f0",
            "max": 5001,
            "min": 0,
            "orientation": "horizontal",
            "style": "IPY_MODEL_4f3c1ece317746ca99867294a4509783",
            "value": 5001
          }
        },
        "9d788755a6414eecab0ba00aa3e2ddcc": {
          "model_module": "@jupyter-widgets/controls",
          "model_name": "HTMLModel",
          "model_module_version": "1.5.0",
          "state": {
            "_dom_classes": [],
            "_model_module": "@jupyter-widgets/controls",
            "_model_module_version": "1.5.0",
            "_model_name": "HTMLModel",
            "_view_count": null,
            "_view_module": "@jupyter-widgets/controls",
            "_view_module_version": "1.5.0",
            "_view_name": "HTMLView",
            "description": "",
            "description_tooltip": null,
            "layout": "IPY_MODEL_3af46871f79b49768bc0d321d16374a2",
            "placeholder": "​",
            "style": "IPY_MODEL_d5933e3d8006424ca6819e4aec425727",
            "value": " 5001/5001 [00:07&lt;00:00, 765.75it/s]"
          }
        },
        "4a961c40445449be89e9cbdd584e0fda": {
          "model_module": "@jupyter-widgets/base",
          "model_name": "LayoutModel",
          "model_module_version": "1.2.0",
          "state": {
            "_model_module": "@jupyter-widgets/base",
            "_model_module_version": "1.2.0",
            "_model_name": "LayoutModel",
            "_view_count": null,
            "_view_module": "@jupyter-widgets/base",
            "_view_module_version": "1.2.0",
            "_view_name": "LayoutView",
            "align_content": null,
            "align_items": null,
            "align_self": null,
            "border": null,
            "bottom": null,
            "display": null,
            "flex": null,
            "flex_flow": null,
            "grid_area": null,
            "grid_auto_columns": null,
            "grid_auto_flow": null,
            "grid_auto_rows": null,
            "grid_column": null,
            "grid_gap": null,
            "grid_row": null,
            "grid_template_areas": null,
            "grid_template_columns": null,
            "grid_template_rows": null,
            "height": null,
            "justify_content": null,
            "justify_items": null,
            "left": null,
            "margin": null,
            "max_height": null,
            "max_width": null,
            "min_height": null,
            "min_width": null,
            "object_fit": null,
            "object_position": null,
            "order": null,
            "overflow": null,
            "overflow_x": null,
            "overflow_y": null,
            "padding": null,
            "right": null,
            "top": null,
            "visibility": null,
            "width": null
          }
        },
        "f1bc6757ee984dc88c00e13aa33e6de5": {
          "model_module": "@jupyter-widgets/base",
          "model_name": "LayoutModel",
          "model_module_version": "1.2.0",
          "state": {
            "_model_module": "@jupyter-widgets/base",
            "_model_module_version": "1.2.0",
            "_model_name": "LayoutModel",
            "_view_count": null,
            "_view_module": "@jupyter-widgets/base",
            "_view_module_version": "1.2.0",
            "_view_name": "LayoutView",
            "align_content": null,
            "align_items": null,
            "align_self": null,
            "border": null,
            "bottom": null,
            "display": null,
            "flex": null,
            "flex_flow": null,
            "grid_area": null,
            "grid_auto_columns": null,
            "grid_auto_flow": null,
            "grid_auto_rows": null,
            "grid_column": null,
            "grid_gap": null,
            "grid_row": null,
            "grid_template_areas": null,
            "grid_template_columns": null,
            "grid_template_rows": null,
            "height": null,
            "justify_content": null,
            "justify_items": null,
            "left": null,
            "margin": null,
            "max_height": null,
            "max_width": null,
            "min_height": null,
            "min_width": null,
            "object_fit": null,
            "object_position": null,
            "order": null,
            "overflow": null,
            "overflow_x": null,
            "overflow_y": null,
            "padding": null,
            "right": null,
            "top": null,
            "visibility": null,
            "width": null
          }
        },
        "a210ab3ae6724e4186f86d6be02ec4c1": {
          "model_module": "@jupyter-widgets/controls",
          "model_name": "DescriptionStyleModel",
          "model_module_version": "1.5.0",
          "state": {
            "_model_module": "@jupyter-widgets/controls",
            "_model_module_version": "1.5.0",
            "_model_name": "DescriptionStyleModel",
            "_view_count": null,
            "_view_module": "@jupyter-widgets/base",
            "_view_module_version": "1.2.0",
            "_view_name": "StyleView",
            "description_width": ""
          }
        },
        "8f88a5981f014a24943a9f05571df8f0": {
          "model_module": "@jupyter-widgets/base",
          "model_name": "LayoutModel",
          "model_module_version": "1.2.0",
          "state": {
            "_model_module": "@jupyter-widgets/base",
            "_model_module_version": "1.2.0",
            "_model_name": "LayoutModel",
            "_view_count": null,
            "_view_module": "@jupyter-widgets/base",
            "_view_module_version": "1.2.0",
            "_view_name": "LayoutView",
            "align_content": null,
            "align_items": null,
            "align_self": null,
            "border": null,
            "bottom": null,
            "display": null,
            "flex": null,
            "flex_flow": null,
            "grid_area": null,
            "grid_auto_columns": null,
            "grid_auto_flow": null,
            "grid_auto_rows": null,
            "grid_column": null,
            "grid_gap": null,
            "grid_row": null,
            "grid_template_areas": null,
            "grid_template_columns": null,
            "grid_template_rows": null,
            "height": null,
            "justify_content": null,
            "justify_items": null,
            "left": null,
            "margin": null,
            "max_height": null,
            "max_width": null,
            "min_height": null,
            "min_width": null,
            "object_fit": null,
            "object_position": null,
            "order": null,
            "overflow": null,
            "overflow_x": null,
            "overflow_y": null,
            "padding": null,
            "right": null,
            "top": null,
            "visibility": null,
            "width": null
          }
        },
        "4f3c1ece317746ca99867294a4509783": {
          "model_module": "@jupyter-widgets/controls",
          "model_name": "ProgressStyleModel",
          "model_module_version": "1.5.0",
          "state": {
            "_model_module": "@jupyter-widgets/controls",
            "_model_module_version": "1.5.0",
            "_model_name": "ProgressStyleModel",
            "_view_count": null,
            "_view_module": "@jupyter-widgets/base",
            "_view_module_version": "1.2.0",
            "_view_name": "StyleView",
            "bar_color": null,
            "description_width": ""
          }
        },
        "3af46871f79b49768bc0d321d16374a2": {
          "model_module": "@jupyter-widgets/base",
          "model_name": "LayoutModel",
          "model_module_version": "1.2.0",
          "state": {
            "_model_module": "@jupyter-widgets/base",
            "_model_module_version": "1.2.0",
            "_model_name": "LayoutModel",
            "_view_count": null,
            "_view_module": "@jupyter-widgets/base",
            "_view_module_version": "1.2.0",
            "_view_name": "LayoutView",
            "align_content": null,
            "align_items": null,
            "align_self": null,
            "border": null,
            "bottom": null,
            "display": null,
            "flex": null,
            "flex_flow": null,
            "grid_area": null,
            "grid_auto_columns": null,
            "grid_auto_flow": null,
            "grid_auto_rows": null,
            "grid_column": null,
            "grid_gap": null,
            "grid_row": null,
            "grid_template_areas": null,
            "grid_template_columns": null,
            "grid_template_rows": null,
            "height": null,
            "justify_content": null,
            "justify_items": null,
            "left": null,
            "margin": null,
            "max_height": null,
            "max_width": null,
            "min_height": null,
            "min_width": null,
            "object_fit": null,
            "object_position": null,
            "order": null,
            "overflow": null,
            "overflow_x": null,
            "overflow_y": null,
            "padding": null,
            "right": null,
            "top": null,
            "visibility": null,
            "width": null
          }
        },
        "d5933e3d8006424ca6819e4aec425727": {
          "model_module": "@jupyter-widgets/controls",
          "model_name": "DescriptionStyleModel",
          "model_module_version": "1.5.0",
          "state": {
            "_model_module": "@jupyter-widgets/controls",
            "_model_module_version": "1.5.0",
            "_model_name": "DescriptionStyleModel",
            "_view_count": null,
            "_view_module": "@jupyter-widgets/base",
            "_view_module_version": "1.2.0",
            "_view_name": "StyleView",
            "description_width": ""
          }
        },
        "3eb47c65acab400bab4c494360e83a7e": {
          "model_module": "@jupyter-widgets/controls",
          "model_name": "HBoxModel",
          "model_module_version": "1.5.0",
          "state": {
            "_dom_classes": [],
            "_model_module": "@jupyter-widgets/controls",
            "_model_module_version": "1.5.0",
            "_model_name": "HBoxModel",
            "_view_count": null,
            "_view_module": "@jupyter-widgets/controls",
            "_view_module_version": "1.5.0",
            "_view_name": "HBoxView",
            "box_style": "",
            "children": [
              "IPY_MODEL_43409a8658cc491e97da71cdf042740f",
              "IPY_MODEL_48be3012cffc40dbaf3b7881a2b7ac9c",
              "IPY_MODEL_f8d76ba29c1a4bdfaf22e7707f6e9c02"
            ],
            "layout": "IPY_MODEL_83cea307662b49488f6401f9729c126d"
          }
        },
        "43409a8658cc491e97da71cdf042740f": {
          "model_module": "@jupyter-widgets/controls",
          "model_name": "HTMLModel",
          "model_module_version": "1.5.0",
          "state": {
            "_dom_classes": [],
            "_model_module": "@jupyter-widgets/controls",
            "_model_module_version": "1.5.0",
            "_model_name": "HTMLModel",
            "_view_count": null,
            "_view_module": "@jupyter-widgets/controls",
            "_view_module_version": "1.5.0",
            "_view_name": "HTMLView",
            "description": "",
            "description_tooltip": null,
            "layout": "IPY_MODEL_4d4cbc923bc048369b78679f26d83c00",
            "placeholder": "​",
            "style": "IPY_MODEL_b0cfca88f75c416ba2577af01ab5f49b",
            "value": "100%"
          }
        },
        "48be3012cffc40dbaf3b7881a2b7ac9c": {
          "model_module": "@jupyter-widgets/controls",
          "model_name": "FloatProgressModel",
          "model_module_version": "1.5.0",
          "state": {
            "_dom_classes": [],
            "_model_module": "@jupyter-widgets/controls",
            "_model_module_version": "1.5.0",
            "_model_name": "FloatProgressModel",
            "_view_count": null,
            "_view_module": "@jupyter-widgets/controls",
            "_view_module_version": "1.5.0",
            "_view_name": "ProgressView",
            "bar_style": "success",
            "description": "",
            "description_tooltip": null,
            "layout": "IPY_MODEL_b302210c807d434291d93e867bb5eb01",
            "max": 5001,
            "min": 0,
            "orientation": "horizontal",
            "style": "IPY_MODEL_a9f1d041c75b41c582869a943bb3a6e2",
            "value": 5001
          }
        },
        "f8d76ba29c1a4bdfaf22e7707f6e9c02": {
          "model_module": "@jupyter-widgets/controls",
          "model_name": "HTMLModel",
          "model_module_version": "1.5.0",
          "state": {
            "_dom_classes": [],
            "_model_module": "@jupyter-widgets/controls",
            "_model_module_version": "1.5.0",
            "_model_name": "HTMLModel",
            "_view_count": null,
            "_view_module": "@jupyter-widgets/controls",
            "_view_module_version": "1.5.0",
            "_view_name": "HTMLView",
            "description": "",
            "description_tooltip": null,
            "layout": "IPY_MODEL_993e315bcd6c480fb667299eef1a3078",
            "placeholder": "​",
            "style": "IPY_MODEL_2bb7f7f0a4174ae79646ff08ea697620",
            "value": " 5001/5001 [00:07&lt;00:00, 687.09it/s]"
          }
        },
        "83cea307662b49488f6401f9729c126d": {
          "model_module": "@jupyter-widgets/base",
          "model_name": "LayoutModel",
          "model_module_version": "1.2.0",
          "state": {
            "_model_module": "@jupyter-widgets/base",
            "_model_module_version": "1.2.0",
            "_model_name": "LayoutModel",
            "_view_count": null,
            "_view_module": "@jupyter-widgets/base",
            "_view_module_version": "1.2.0",
            "_view_name": "LayoutView",
            "align_content": null,
            "align_items": null,
            "align_self": null,
            "border": null,
            "bottom": null,
            "display": null,
            "flex": null,
            "flex_flow": null,
            "grid_area": null,
            "grid_auto_columns": null,
            "grid_auto_flow": null,
            "grid_auto_rows": null,
            "grid_column": null,
            "grid_gap": null,
            "grid_row": null,
            "grid_template_areas": null,
            "grid_template_columns": null,
            "grid_template_rows": null,
            "height": null,
            "justify_content": null,
            "justify_items": null,
            "left": null,
            "margin": null,
            "max_height": null,
            "max_width": null,
            "min_height": null,
            "min_width": null,
            "object_fit": null,
            "object_position": null,
            "order": null,
            "overflow": null,
            "overflow_x": null,
            "overflow_y": null,
            "padding": null,
            "right": null,
            "top": null,
            "visibility": null,
            "width": null
          }
        },
        "4d4cbc923bc048369b78679f26d83c00": {
          "model_module": "@jupyter-widgets/base",
          "model_name": "LayoutModel",
          "model_module_version": "1.2.0",
          "state": {
            "_model_module": "@jupyter-widgets/base",
            "_model_module_version": "1.2.0",
            "_model_name": "LayoutModel",
            "_view_count": null,
            "_view_module": "@jupyter-widgets/base",
            "_view_module_version": "1.2.0",
            "_view_name": "LayoutView",
            "align_content": null,
            "align_items": null,
            "align_self": null,
            "border": null,
            "bottom": null,
            "display": null,
            "flex": null,
            "flex_flow": null,
            "grid_area": null,
            "grid_auto_columns": null,
            "grid_auto_flow": null,
            "grid_auto_rows": null,
            "grid_column": null,
            "grid_gap": null,
            "grid_row": null,
            "grid_template_areas": null,
            "grid_template_columns": null,
            "grid_template_rows": null,
            "height": null,
            "justify_content": null,
            "justify_items": null,
            "left": null,
            "margin": null,
            "max_height": null,
            "max_width": null,
            "min_height": null,
            "min_width": null,
            "object_fit": null,
            "object_position": null,
            "order": null,
            "overflow": null,
            "overflow_x": null,
            "overflow_y": null,
            "padding": null,
            "right": null,
            "top": null,
            "visibility": null,
            "width": null
          }
        },
        "b0cfca88f75c416ba2577af01ab5f49b": {
          "model_module": "@jupyter-widgets/controls",
          "model_name": "DescriptionStyleModel",
          "model_module_version": "1.5.0",
          "state": {
            "_model_module": "@jupyter-widgets/controls",
            "_model_module_version": "1.5.0",
            "_model_name": "DescriptionStyleModel",
            "_view_count": null,
            "_view_module": "@jupyter-widgets/base",
            "_view_module_version": "1.2.0",
            "_view_name": "StyleView",
            "description_width": ""
          }
        },
        "b302210c807d434291d93e867bb5eb01": {
          "model_module": "@jupyter-widgets/base",
          "model_name": "LayoutModel",
          "model_module_version": "1.2.0",
          "state": {
            "_model_module": "@jupyter-widgets/base",
            "_model_module_version": "1.2.0",
            "_model_name": "LayoutModel",
            "_view_count": null,
            "_view_module": "@jupyter-widgets/base",
            "_view_module_version": "1.2.0",
            "_view_name": "LayoutView",
            "align_content": null,
            "align_items": null,
            "align_self": null,
            "border": null,
            "bottom": null,
            "display": null,
            "flex": null,
            "flex_flow": null,
            "grid_area": null,
            "grid_auto_columns": null,
            "grid_auto_flow": null,
            "grid_auto_rows": null,
            "grid_column": null,
            "grid_gap": null,
            "grid_row": null,
            "grid_template_areas": null,
            "grid_template_columns": null,
            "grid_template_rows": null,
            "height": null,
            "justify_content": null,
            "justify_items": null,
            "left": null,
            "margin": null,
            "max_height": null,
            "max_width": null,
            "min_height": null,
            "min_width": null,
            "object_fit": null,
            "object_position": null,
            "order": null,
            "overflow": null,
            "overflow_x": null,
            "overflow_y": null,
            "padding": null,
            "right": null,
            "top": null,
            "visibility": null,
            "width": null
          }
        },
        "a9f1d041c75b41c582869a943bb3a6e2": {
          "model_module": "@jupyter-widgets/controls",
          "model_name": "ProgressStyleModel",
          "model_module_version": "1.5.0",
          "state": {
            "_model_module": "@jupyter-widgets/controls",
            "_model_module_version": "1.5.0",
            "_model_name": "ProgressStyleModel",
            "_view_count": null,
            "_view_module": "@jupyter-widgets/base",
            "_view_module_version": "1.2.0",
            "_view_name": "StyleView",
            "bar_color": null,
            "description_width": ""
          }
        },
        "993e315bcd6c480fb667299eef1a3078": {
          "model_module": "@jupyter-widgets/base",
          "model_name": "LayoutModel",
          "model_module_version": "1.2.0",
          "state": {
            "_model_module": "@jupyter-widgets/base",
            "_model_module_version": "1.2.0",
            "_model_name": "LayoutModel",
            "_view_count": null,
            "_view_module": "@jupyter-widgets/base",
            "_view_module_version": "1.2.0",
            "_view_name": "LayoutView",
            "align_content": null,
            "align_items": null,
            "align_self": null,
            "border": null,
            "bottom": null,
            "display": null,
            "flex": null,
            "flex_flow": null,
            "grid_area": null,
            "grid_auto_columns": null,
            "grid_auto_flow": null,
            "grid_auto_rows": null,
            "grid_column": null,
            "grid_gap": null,
            "grid_row": null,
            "grid_template_areas": null,
            "grid_template_columns": null,
            "grid_template_rows": null,
            "height": null,
            "justify_content": null,
            "justify_items": null,
            "left": null,
            "margin": null,
            "max_height": null,
            "max_width": null,
            "min_height": null,
            "min_width": null,
            "object_fit": null,
            "object_position": null,
            "order": null,
            "overflow": null,
            "overflow_x": null,
            "overflow_y": null,
            "padding": null,
            "right": null,
            "top": null,
            "visibility": null,
            "width": null
          }
        },
        "2bb7f7f0a4174ae79646ff08ea697620": {
          "model_module": "@jupyter-widgets/controls",
          "model_name": "DescriptionStyleModel",
          "model_module_version": "1.5.0",
          "state": {
            "_model_module": "@jupyter-widgets/controls",
            "_model_module_version": "1.5.0",
            "_model_name": "DescriptionStyleModel",
            "_view_count": null,
            "_view_module": "@jupyter-widgets/base",
            "_view_module_version": "1.2.0",
            "_view_name": "StyleView",
            "description_width": ""
          }
        }
      }
    },
    "accelerator": "GPU"
  },
  "nbformat": 4,
  "nbformat_minor": 0
}